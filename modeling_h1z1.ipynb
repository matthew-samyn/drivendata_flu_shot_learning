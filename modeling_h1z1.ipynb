{
 "cells": [
  {
   "cell_type": "code",
   "execution_count": 18,
   "outputs": [],
   "source": [
    "import pandas as pd\n",
    "from utils.functions import *\n",
    "import seaborn as sns\n",
    "import matplotlib.pyplot as plt\n",
    "import numpy as np\n",
    "from sklearn.model_selection import train_test_split\n",
    "from sklearn.preprocessing import StandardScaler"
   ],
   "metadata": {
    "collapsed": false,
    "pycharm": {
     "name": "#%%\n"
    }
   }
  },
  {
   "cell_type": "code",
   "source": [
    "df = pd.read_csv(\"data/training_h1n1.csv\")\n",
    "df = df.dropna()"
   ],
   "metadata": {
    "collapsed": false,
    "pycharm": {
     "name": "#%%\n"
    }
   },
   "execution_count": 19,
   "outputs": []
  },
  {
   "cell_type": "code",
   "execution_count": 20,
   "outputs": [
    {
     "name": "stdout",
     "output_type": "stream",
     "text": [
      "Index(['respondent_id', 'h1n1_concern', 'h1n1_knowledge',\n",
      "       'behavioral_antiviral_meds', 'behavioral_avoidance',\n",
      "       'behavioral_face_mask', 'behavioral_wash_hands',\n",
      "       'behavioral_large_gatherings', 'behavioral_outside_home',\n",
      "       'behavioral_touch_face',\n",
      "       ...\n",
      "       'qxajmpny', 'rcertsgn', 'tfqavkke', 'ukymxvdu', 'uqqtjvyb', 'vlluhbov',\n",
      "       'xgwztkwe', 'xqwwgdyp', 'xtkaffoo', 'xzmlyyjv'],\n",
      "      dtype='object', length=104)\n",
      "respondent_id                  int64\n",
      "h1n1_concern                 float64\n",
      "h1n1_knowledge               float64\n",
      "behavioral_antiviral_meds    float64\n",
      "behavioral_avoidance         float64\n",
      "                              ...   \n",
      "vlluhbov                       int64\n",
      "xgwztkwe                       int64\n",
      "xqwwgdyp                       int64\n",
      "xtkaffoo                       int64\n",
      "xzmlyyjv                       int64\n",
      "Length: 104, dtype: object\n",
      "       respondent_id  h1n1_concern  h1n1_knowledge  behavioral_antiviral_meds  \\\n",
      "count   13104.000000  13104.000000    13104.000000               13104.000000   \n",
      "mean    13379.237714      1.528388        1.259768                   0.053342   \n",
      "std      7716.517352      0.891994        0.610883                   0.224724   \n",
      "min         0.000000      0.000000        0.000000                   0.000000   \n",
      "25%      6701.750000      1.000000        1.000000                   0.000000   \n",
      "50%     13355.500000      2.000000        1.000000                   0.000000   \n",
      "75%     20081.500000      2.000000        2.000000                   0.000000   \n",
      "max     26706.000000      3.000000        2.000000                   1.000000   \n",
      "\n",
      "       behavioral_avoidance  behavioral_face_mask  behavioral_wash_hands  \\\n",
      "count          13104.000000          13104.000000           13104.000000   \n",
      "mean               0.726038              0.068452               0.817766   \n",
      "std                0.446007              0.252530               0.386052   \n",
      "min                0.000000              0.000000               0.000000   \n",
      "25%                0.000000              0.000000               1.000000   \n",
      "50%                1.000000              0.000000               1.000000   \n",
      "75%                1.000000              0.000000               1.000000   \n",
      "max                1.000000              1.000000               1.000000   \n",
      "\n",
      "       behavioral_large_gatherings  behavioral_outside_home  \\\n",
      "count                 13104.000000             13104.000000   \n",
      "mean                      0.335241                 0.317613   \n",
      "std                       0.472093                 0.465566   \n",
      "min                       0.000000                 0.000000   \n",
      "25%                       0.000000                 0.000000   \n",
      "50%                       0.000000                 0.000000   \n",
      "75%                       1.000000                 1.000000   \n",
      "max                       1.000000                 1.000000   \n",
      "\n",
      "       behavioral_touch_face  ...      qxajmpny      rcertsgn      tfqavkke  \\\n",
      "count           13104.000000  ...  13104.000000  13104.000000  13104.000000   \n",
      "mean                0.679258  ...      0.021596      0.010455      0.016102   \n",
      "std                 0.466780  ...      0.145367      0.101717      0.125873   \n",
      "min                 0.000000  ...      0.000000      0.000000      0.000000   \n",
      "25%                 0.000000  ...      0.000000      0.000000      0.000000   \n",
      "50%                 1.000000  ...      0.000000      0.000000      0.000000   \n",
      "75%                 1.000000  ...      0.000000      0.000000      0.000000   \n",
      "max                 1.000000  ...      1.000000      1.000000      1.000000   \n",
      "\n",
      "           ukymxvdu      uqqtjvyb      vlluhbov      xgwztkwe      xqwwgdyp  \\\n",
      "count  13104.000000  13104.000000  13104.000000  13104.000000  13104.000000   \n",
      "mean       0.014881      0.017933      0.014805      0.044795      0.020528   \n",
      "std        0.121081      0.132715      0.120775      0.206863      0.141803   \n",
      "min        0.000000      0.000000      0.000000      0.000000      0.000000   \n",
      "25%        0.000000      0.000000      0.000000      0.000000      0.000000   \n",
      "50%        0.000000      0.000000      0.000000      0.000000      0.000000   \n",
      "75%        0.000000      0.000000      0.000000      0.000000      0.000000   \n",
      "max        1.000000      1.000000      1.000000      1.000000      1.000000   \n",
      "\n",
      "           xtkaffoo      xzmlyyjv  \n",
      "count  13104.000000  13104.000000  \n",
      "mean       0.068681      0.008776  \n",
      "std        0.252921      0.093272  \n",
      "min        0.000000      0.000000  \n",
      "25%        0.000000      0.000000  \n",
      "50%        0.000000      0.000000  \n",
      "75%        0.000000      0.000000  \n",
      "max        1.000000      1.000000  \n",
      "\n",
      "[8 rows x 104 columns]\n",
      "(13104, 104)\n"
     ]
    }
   ],
   "source": [
    "print(df.columns)\n",
    "print(df.dtypes)\n",
    "print(df.describe())\n",
    "print(df.shape)"
   ],
   "metadata": {
    "collapsed": false,
    "pycharm": {
     "name": "#%%\n"
    }
   }
  },
  {
   "cell_type": "code",
   "execution_count": 21,
   "outputs": [],
   "source": [
    "# types = [\"int64\",\"float64\"]\n",
    "# categorical = []\n",
    "# numerical = []\n",
    "#\n",
    "# for column in df.columns:\n",
    "#     if seperate_columns_by_type(df[column], types):\n",
    "#         numerical.append(column)\n",
    "#     else:\n",
    "#         categorical.append(column)"
   ],
   "metadata": {
    "collapsed": false,
    "pycharm": {
     "name": "#%%\n"
    }
   }
  },
  {
   "cell_type": "code",
   "execution_count": 22,
   "outputs": [],
   "source": [
    "# for column in categorical[:-1]:\n",
    "#     sns.catplot(kind=\"count\", data=df, x=column, hue=categorical[-1])\n",
    "#     plt.title(f\"Countplot on {column}\")\n",
    "#     plt.xticks(rotation=45)\n",
    "#     plt.show()"
   ],
   "metadata": {
    "collapsed": false,
    "pycharm": {
     "name": "#%%\n"
    }
   }
  },
  {
   "cell_type": "markdown",
   "source": [
    "Splitting into train and test"
   ],
   "metadata": {
    "collapsed": false,
    "pycharm": {
     "name": "#%% md\n"
    }
   }
  },
  {
   "cell_type": "code",
   "execution_count": 23,
   "outputs": [],
   "source": [
    "target_column = \"h1n1_vaccine\"\n",
    "y = df[target_column].values\n",
    "X = df.drop([target_column,\"respondent_id\"], axis=1).values\n",
    "\n",
    "X_train, X_test, y_train, y_test = train_test_split(X,y,test_size=0.2,\n",
    "                                                    random_state=1,stratify=y)\n",
    "\n",
    "scaler = StandardScaler()\n",
    "X_train_standard = scaler.fit_transform(X_train)\n",
    "X_test_standard = scaler.transform(X_test)"
   ],
   "metadata": {
    "collapsed": false,
    "pycharm": {
     "name": "#%%\n"
    }
   }
  },
  {
   "cell_type": "markdown",
   "source": [
    "## Trying out different models for predictions\n",
    "### Linear regression"
   ],
   "metadata": {
    "collapsed": false,
    "pycharm": {
     "name": "#%% md\n"
    }
   }
  },
  {
   "cell_type": "code",
   "execution_count": 24,
   "outputs": [],
   "source": [
    "# from sklearn.pipeline import make_pipeline\n",
    "# from sklearn.preprocessing import PolynomialFeatures\n",
    "# from sklearn.linear_model import LinearRegression\n",
    "#\n",
    "# degree=2\n",
    "# model = make_pipeline(PolynomialFeatures(degree), LinearRegression())\n",
    "# model.fit(X_train_standard, y_train)\n",
    "# model_score = model.score(X_train,y_train)\n",
    "# print(model_score)"
   ],
   "metadata": {
    "collapsed": false,
    "pycharm": {
     "name": "#%%\n"
    }
   }
  },
  {
   "cell_type": "markdown",
   "source": [
    "### Random Forest # TROUBLE WITH 1's"
   ],
   "metadata": {
    "collapsed": false,
    "pycharm": {
     "name": "#%% md\n"
    }
   }
  },
  {
   "cell_type": "code",
   "execution_count": 25,
   "outputs": [
    {
     "name": "stdout",
     "output_type": "stream",
     "text": [
      "Model used is Random Forest:\n",
      "cv_score   : 0.8212591575091576\n",
      "train_score: 1.0\n",
      "test_score : 0.8222052651659671\n",
      "              precision    recall  f1-score   support\n",
      "\n",
      "           0       0.84      0.93      0.88      1839\n",
      "           1       0.78      0.57      0.66       782\n",
      "\n",
      "    accuracy                           0.82      2621\n",
      "   macro avg       0.81      0.75      0.77      2621\n",
      "weighted avg       0.82      0.82      0.81      2621\n",
      "\n"
     ]
    }
   ],
   "source": [
    "from sklearn.ensemble import RandomForestClassifier\n",
    "from sklearn.metrics import classification_report\n",
    "from sklearn.model_selection import cross_val_score\n",
    "from sklearn.metrics import confusion_matrix\n",
    "\n",
    "model = RandomForestClassifier(random_state=40)\n",
    "model.fit(X_train_standard, y_train)\n",
    "y_pred = model.predict(X_test_standard)\n",
    "cv_score = cross_val_score(model,X_train, y_train,cv=100)\n",
    "print(\"Model used is Random Forest:\")\n",
    "print(f\"cv_score   : {np.mean(cv_score)}\")\n",
    "print(f\"train_score: {model.score(X_train_standard, y_train)}\")\n",
    "print(f\"test_score : {model.score(X_test_standard, y_test)}\")\n",
    "print(classification_report(y_test, y_pred))"
   ],
   "metadata": {
    "collapsed": false,
    "pycharm": {
     "name": "#%%\n"
    }
   }
  },
  {
   "cell_type": "code",
   "execution_count": 28,
   "outputs": [
    {
     "name": "stdout",
     "output_type": "stream",
     "text": [
      "NUM GPUs Available:  1\n",
      "(10483, 102)\n",
      "Epoch 1/200\n",
      "53/53 - 3s - loss: 0.6420 - accuracy: 0.6737 - val_loss: 0.6020 - val_accuracy: 0.6980\n",
      "\n",
      "Epoch 00001: val_accuracy improved from -inf to 0.69802, saving model to models\\best_training_0.6737_0.6980.h5\n",
      "Epoch 2/200\n",
      "53/53 - 1s - loss: 0.5753 - accuracy: 0.7050 - val_loss: 0.5603 - val_accuracy: 0.6980\n",
      "\n",
      "Epoch 00002: val_accuracy did not improve from 0.69802\n",
      "Epoch 3/200\n",
      "53/53 - 1s - loss: 0.5392 - accuracy: 0.7050 - val_loss: 0.5300 - val_accuracy: 0.6980\n",
      "\n",
      "Epoch 00003: val_accuracy did not improve from 0.69802\n",
      "Epoch 4/200\n",
      "53/53 - 1s - loss: 0.5072 - accuracy: 0.7050 - val_loss: 0.5103 - val_accuracy: 0.6980\n",
      "\n",
      "Epoch 00004: val_accuracy did not improve from 0.69802\n",
      "Epoch 5/200\n",
      "53/53 - 1s - loss: 0.4848 - accuracy: 0.7188 - val_loss: 0.4988 - val_accuracy: 0.7551\n",
      "\n",
      "Epoch 00005: val_accuracy improved from 0.69802 to 0.75506, saving model to models\\best_training_0.7188_0.7551.h5\n",
      "Epoch 6/200\n",
      "53/53 - 1s - loss: 0.4732 - accuracy: 0.7749 - val_loss: 0.4912 - val_accuracy: 0.7745\n",
      "\n",
      "Epoch 00006: val_accuracy improved from 0.75506 to 0.77451, saving model to models\\best_training_0.7749_0.7745.h5\n",
      "Epoch 7/200\n",
      "53/53 - 1s - loss: 0.4587 - accuracy: 0.7981 - val_loss: 0.4854 - val_accuracy: 0.7882\n",
      "\n",
      "Epoch 00007: val_accuracy improved from 0.77451 to 0.78825, saving model to models\\best_training_0.7981_0.7882.h5\n",
      "Epoch 8/200\n",
      "53/53 - 1s - loss: 0.4486 - accuracy: 0.8102 - val_loss: 0.4798 - val_accuracy: 0.7921\n",
      "\n",
      "Epoch 00008: val_accuracy improved from 0.78825 to 0.79206, saving model to models\\best_training_0.8102_0.7921.h5\n",
      "Epoch 9/200\n",
      "53/53 - 1s - loss: 0.4357 - accuracy: 0.8203 - val_loss: 0.4738 - val_accuracy: 0.7963\n",
      "\n",
      "Epoch 00009: val_accuracy improved from 0.79206 to 0.79626, saving model to models\\best_training_0.8203_0.7963.h5\n",
      "Epoch 10/200\n",
      "53/53 - 1s - loss: 0.4233 - accuracy: 0.8258 - val_loss: 0.4642 - val_accuracy: 0.7982\n",
      "\n",
      "Epoch 00010: val_accuracy improved from 0.79626 to 0.79817, saving model to models\\best_training_0.8258_0.7982.h5\n",
      "Epoch 11/200\n",
      "53/53 - 1s - loss: 0.4087 - accuracy: 0.8245 - val_loss: 0.4589 - val_accuracy: 0.8012\n",
      "\n",
      "Epoch 00011: val_accuracy improved from 0.79817 to 0.80122, saving model to models\\best_training_0.8245_0.8012.h5\n",
      "Epoch 12/200\n",
      "53/53 - 1s - loss: 0.3951 - accuracy: 0.8313 - val_loss: 0.4501 - val_accuracy: 0.8035\n",
      "\n",
      "Epoch 00012: val_accuracy improved from 0.80122 to 0.80351, saving model to models\\best_training_0.8313_0.8035.h5\n",
      "Epoch 13/200\n",
      "53/53 - 1s - loss: 0.3914 - accuracy: 0.8351 - val_loss: 0.4485 - val_accuracy: 0.8029\n",
      "\n",
      "Epoch 00013: val_accuracy did not improve from 0.80351\n",
      "Epoch 14/200\n",
      "53/53 - 1s - loss: 0.3794 - accuracy: 0.8413 - val_loss: 0.4513 - val_accuracy: 0.8079\n",
      "\n",
      "Epoch 00014: val_accuracy improved from 0.80351 to 0.80790, saving model to models\\best_training_0.8413_0.8079.h5\n",
      "Epoch 15/200\n",
      "53/53 - 1s - loss: 0.3804 - accuracy: 0.8403 - val_loss: 0.4481 - val_accuracy: 0.8056\n",
      "\n",
      "Epoch 00015: val_accuracy did not improve from 0.80790\n",
      "Epoch 16/200\n",
      "53/53 - 1s - loss: 0.3696 - accuracy: 0.8529 - val_loss: 0.4492 - val_accuracy: 0.8073\n",
      "\n",
      "Epoch 00016: val_accuracy did not improve from 0.80790\n",
      "Epoch 17/200\n",
      "53/53 - 1s - loss: 0.3639 - accuracy: 0.8504 - val_loss: 0.4503 - val_accuracy: 0.8050\n",
      "\n",
      "Epoch 00017: val_accuracy did not improve from 0.80790\n",
      "Epoch 18/200\n",
      "53/53 - 1s - loss: 0.3614 - accuracy: 0.8550 - val_loss: 0.4532 - val_accuracy: 0.8027\n",
      "\n",
      "Epoch 00018: val_accuracy did not improve from 0.80790\n",
      "Epoch 19/200\n",
      "53/53 - 1s - loss: 0.3521 - accuracy: 0.8605 - val_loss: 0.4598 - val_accuracy: 0.8045\n",
      "\n",
      "Epoch 00019: val_accuracy did not improve from 0.80790\n",
      "Epoch 20/200\n",
      "53/53 - 1s - loss: 0.3505 - accuracy: 0.8579 - val_loss: 0.4617 - val_accuracy: 0.8052\n",
      "\n",
      "Epoch 00020: val_accuracy did not improve from 0.80790\n",
      "Epoch 21/200\n",
      "53/53 - 1s - loss: 0.3519 - accuracy: 0.8592 - val_loss: 0.4593 - val_accuracy: 0.8022\n",
      "\n",
      "Epoch 00021: val_accuracy did not improve from 0.80790\n",
      "Epoch 22/200\n",
      "53/53 - 1s - loss: 0.3446 - accuracy: 0.8603 - val_loss: 0.4662 - val_accuracy: 0.8052\n",
      "\n",
      "Epoch 00022: val_accuracy did not improve from 0.80790\n",
      "Epoch 23/200\n",
      "53/53 - 1s - loss: 0.3402 - accuracy: 0.8636 - val_loss: 0.4683 - val_accuracy: 0.8022\n",
      "\n",
      "Epoch 00023: val_accuracy did not improve from 0.80790\n",
      "Epoch 24/200\n",
      "53/53 - 1s - loss: 0.3358 - accuracy: 0.8685 - val_loss: 0.4710 - val_accuracy: 0.8012\n",
      "\n",
      "Epoch 00024: val_accuracy did not improve from 0.80790\n",
      "Epoch 25/200\n",
      "53/53 - 1s - loss: 0.3297 - accuracy: 0.8720 - val_loss: 0.4753 - val_accuracy: 0.7976\n",
      "\n",
      "Epoch 00025: val_accuracy did not improve from 0.80790\n",
      "Epoch 26/200\n",
      "53/53 - 1s - loss: 0.3309 - accuracy: 0.8725 - val_loss: 0.4765 - val_accuracy: 0.7980\n",
      "\n",
      "Epoch 00026: val_accuracy did not improve from 0.80790\n",
      "Epoch 27/200\n",
      "53/53 - 1s - loss: 0.3294 - accuracy: 0.8680 - val_loss: 0.4816 - val_accuracy: 0.7991\n",
      "\n",
      "Epoch 00027: val_accuracy did not improve from 0.80790\n",
      "Epoch 28/200\n",
      "53/53 - 1s - loss: 0.3240 - accuracy: 0.8752 - val_loss: 0.4827 - val_accuracy: 0.7945\n",
      "\n",
      "Epoch 00028: val_accuracy did not improve from 0.80790\n",
      "Epoch 29/200\n",
      "53/53 - 1s - loss: 0.3199 - accuracy: 0.8779 - val_loss: 0.4913 - val_accuracy: 0.7966\n",
      "\n",
      "Epoch 00029: val_accuracy did not improve from 0.80790\n",
      "Epoch 30/200\n",
      "53/53 - 0s - loss: 0.3173 - accuracy: 0.8775 - val_loss: 0.4974 - val_accuracy: 0.7936\n",
      "\n",
      "Epoch 00030: val_accuracy did not improve from 0.80790\n",
      "Epoch 31/200\n",
      "53/53 - 0s - loss: 0.3143 - accuracy: 0.8802 - val_loss: 0.4943 - val_accuracy: 0.7945\n",
      "\n",
      "Epoch 00031: val_accuracy did not improve from 0.80790\n",
      "Epoch 32/200\n",
      "53/53 - 0s - loss: 0.3105 - accuracy: 0.8804 - val_loss: 0.5006 - val_accuracy: 0.7940\n",
      "\n",
      "Epoch 00032: val_accuracy did not improve from 0.80790\n",
      "Epoch 33/200\n",
      "53/53 - 0s - loss: 0.3092 - accuracy: 0.8807 - val_loss: 0.5068 - val_accuracy: 0.7961\n",
      "\n",
      "Epoch 00033: val_accuracy did not improve from 0.80790\n",
      "Epoch 34/200\n",
      "53/53 - 0s - loss: 0.3040 - accuracy: 0.8849 - val_loss: 0.5202 - val_accuracy: 0.7942\n",
      "\n",
      "Epoch 00034: val_accuracy did not improve from 0.80790\n",
      "Epoch 35/200\n",
      "53/53 - 0s - loss: 0.3030 - accuracy: 0.8857 - val_loss: 0.5228 - val_accuracy: 0.7957\n",
      "\n",
      "Epoch 00035: val_accuracy did not improve from 0.80790\n",
      "Epoch 36/200\n",
      "53/53 - 0s - loss: 0.3037 - accuracy: 0.8857 - val_loss: 0.5200 - val_accuracy: 0.7947\n",
      "\n",
      "Epoch 00036: val_accuracy did not improve from 0.80790\n",
      "Epoch 37/200\n",
      "53/53 - 0s - loss: 0.3018 - accuracy: 0.8857 - val_loss: 0.5190 - val_accuracy: 0.7924\n",
      "\n",
      "Epoch 00037: val_accuracy did not improve from 0.80790\n",
      "Epoch 38/200\n",
      "53/53 - 0s - loss: 0.2973 - accuracy: 0.8888 - val_loss: 0.5246 - val_accuracy: 0.7907\n",
      "\n",
      "Epoch 00038: val_accuracy did not improve from 0.80790\n",
      "Epoch 39/200\n",
      "53/53 - 0s - loss: 0.2961 - accuracy: 0.8891 - val_loss: 0.5317 - val_accuracy: 0.7942\n",
      "\n",
      "Epoch 00039: val_accuracy did not improve from 0.80790\n",
      "Epoch 40/200\n",
      "53/53 - 0s - loss: 0.2898 - accuracy: 0.8943 - val_loss: 0.5364 - val_accuracy: 0.7921\n",
      "\n",
      "Epoch 00040: val_accuracy did not improve from 0.80790\n",
      "Epoch 41/200\n",
      "53/53 - 0s - loss: 0.2874 - accuracy: 0.8952 - val_loss: 0.5444 - val_accuracy: 0.7907\n",
      "\n",
      "Epoch 00041: val_accuracy did not improve from 0.80790\n",
      "Epoch 42/200\n",
      "53/53 - 0s - loss: 0.2831 - accuracy: 0.8964 - val_loss: 0.5533 - val_accuracy: 0.7884\n",
      "\n",
      "Epoch 00042: val_accuracy did not improve from 0.80790\n",
      "Epoch 43/200\n",
      "53/53 - 0s - loss: 0.2848 - accuracy: 0.8947 - val_loss: 0.5509 - val_accuracy: 0.7882\n",
      "\n",
      "Epoch 00043: val_accuracy did not improve from 0.80790\n",
      "Epoch 44/200\n",
      "53/53 - 0s - loss: 0.2803 - accuracy: 0.8939 - val_loss: 0.5555 - val_accuracy: 0.7890\n",
      "\n",
      "Epoch 00044: val_accuracy did not improve from 0.80790\n",
      "Epoch 45/200\n",
      "53/53 - 0s - loss: 0.2830 - accuracy: 0.8945 - val_loss: 0.5533 - val_accuracy: 0.7850\n",
      "\n",
      "Epoch 00045: val_accuracy did not improve from 0.80790\n",
      "Epoch 46/200\n",
      "53/53 - 0s - loss: 0.2734 - accuracy: 0.9000 - val_loss: 0.5670 - val_accuracy: 0.7882\n",
      "\n",
      "Epoch 00046: val_accuracy did not improve from 0.80790\n",
      "Epoch 47/200\n",
      "53/53 - 0s - loss: 0.2771 - accuracy: 0.9002 - val_loss: 0.5678 - val_accuracy: 0.7892\n",
      "\n",
      "Epoch 00047: val_accuracy did not improve from 0.80790\n",
      "Epoch 48/200\n",
      "53/53 - 0s - loss: 0.2752 - accuracy: 0.9000 - val_loss: 0.5772 - val_accuracy: 0.7875\n",
      "\n",
      "Epoch 00048: val_accuracy did not improve from 0.80790\n",
      "Epoch 49/200\n",
      "53/53 - 0s - loss: 0.2710 - accuracy: 0.9012 - val_loss: 0.5761 - val_accuracy: 0.7858\n",
      "\n",
      "Epoch 00049: val_accuracy did not improve from 0.80790\n",
      "Epoch 50/200\n",
      "53/53 - 0s - loss: 0.2702 - accuracy: 0.9040 - val_loss: 0.5755 - val_accuracy: 0.7875\n",
      "\n",
      "Epoch 00050: val_accuracy did not improve from 0.80790\n",
      "Epoch 51/200\n",
      "53/53 - 0s - loss: 0.2615 - accuracy: 0.9088 - val_loss: 0.5936 - val_accuracy: 0.7871\n",
      "\n",
      "Epoch 00051: val_accuracy did not improve from 0.80790\n",
      "Epoch 52/200\n",
      "53/53 - 0s - loss: 0.2639 - accuracy: 0.9019 - val_loss: 0.5871 - val_accuracy: 0.7844\n",
      "\n",
      "Epoch 00052: val_accuracy did not improve from 0.80790\n",
      "Epoch 53/200\n",
      "53/53 - 0s - loss: 0.2597 - accuracy: 0.9080 - val_loss: 0.5944 - val_accuracy: 0.7860\n",
      "\n",
      "Epoch 00053: val_accuracy did not improve from 0.80790\n",
      "Epoch 54/200\n",
      "53/53 - 0s - loss: 0.2553 - accuracy: 0.9101 - val_loss: 0.5969 - val_accuracy: 0.7848\n",
      "\n",
      "Epoch 00054: val_accuracy did not improve from 0.80790\n",
      "Epoch 55/200\n",
      "53/53 - 0s - loss: 0.2626 - accuracy: 0.9036 - val_loss: 0.6025 - val_accuracy: 0.7860\n",
      "\n",
      "Epoch 00055: val_accuracy did not improve from 0.80790\n",
      "Epoch 56/200\n",
      "53/53 - 0s - loss: 0.2564 - accuracy: 0.9098 - val_loss: 0.6022 - val_accuracy: 0.7875\n",
      "\n",
      "Epoch 00056: val_accuracy did not improve from 0.80790\n",
      "Epoch 57/200\n",
      "53/53 - 0s - loss: 0.2602 - accuracy: 0.9073 - val_loss: 0.6093 - val_accuracy: 0.7856\n",
      "\n",
      "Epoch 00057: val_accuracy did not improve from 0.80790\n",
      "Epoch 58/200\n",
      "53/53 - 0s - loss: 0.2571 - accuracy: 0.9044 - val_loss: 0.6174 - val_accuracy: 0.7879\n",
      "\n",
      "Epoch 00058: val_accuracy did not improve from 0.80790\n",
      "Epoch 59/200\n",
      "53/53 - 0s - loss: 0.2527 - accuracy: 0.9082 - val_loss: 0.6299 - val_accuracy: 0.7865\n",
      "\n",
      "Epoch 00059: val_accuracy did not improve from 0.80790\n",
      "Epoch 60/200\n",
      "53/53 - 0s - loss: 0.2458 - accuracy: 0.9117 - val_loss: 0.6311 - val_accuracy: 0.7850\n",
      "\n",
      "Epoch 00060: val_accuracy did not improve from 0.80790\n",
      "Epoch 61/200\n",
      "53/53 - 0s - loss: 0.2462 - accuracy: 0.9111 - val_loss: 0.6436 - val_accuracy: 0.7846\n",
      "\n",
      "Epoch 00061: val_accuracy did not improve from 0.80790\n",
      "Epoch 62/200\n",
      "53/53 - 0s - loss: 0.2420 - accuracy: 0.9157 - val_loss: 0.6624 - val_accuracy: 0.7846\n",
      "\n",
      "Epoch 00062: val_accuracy did not improve from 0.80790\n",
      "Epoch 63/200\n",
      "53/53 - 0s - loss: 0.2435 - accuracy: 0.9128 - val_loss: 0.6607 - val_accuracy: 0.7854\n",
      "\n",
      "Epoch 00063: val_accuracy did not improve from 0.80790\n",
      "Epoch 64/200\n",
      "53/53 - 0s - loss: 0.2424 - accuracy: 0.9128 - val_loss: 0.6675 - val_accuracy: 0.7841\n",
      "\n",
      "Epoch 00064: val_accuracy did not improve from 0.80790\n",
      "Epoch 65/200\n",
      "53/53 - 0s - loss: 0.2395 - accuracy: 0.9128 - val_loss: 0.6642 - val_accuracy: 0.7848\n",
      "\n",
      "Epoch 00065: val_accuracy did not improve from 0.80790\n",
      "Epoch 00065: early stopping\n"
     ]
    }
   ],
   "source": [
    "import tensorflow as tf\n",
    "from tensorflow import keras\n",
    "from keras.models import Sequential\n",
    "from keras.layers import Dropout, Dense, Flatten\n",
    "from keras.metrics import BinaryCrossentropy\n",
    "from tensorflow.keras.optimizers import Adam\n",
    "from keras.callbacks import ReduceLROnPlateau, EarlyStopping, ModelCheckpoint\n",
    "from keras.models import load_model\n",
    "\n",
    "physical_devices = tf.config.experimental.list_physical_devices(\"GPU\")\n",
    "print(\"NUM GPUs Available: \", len(physical_devices))\n",
    "tf.config.experimental.set_memory_growth(physical_devices[0], True)\n",
    "\n",
    "es = EarlyStopping(monitor='val_loss', mode='min', verbose=1, patience=50)\n",
    "mc = ModelCheckpoint('models/h1z1_training_{accuracy:.4f}_{val_accuracy:.4f}.h5',\n",
    "                     monitor='val_accuracy', mode='max', verbose=1,\n",
    "                     save_best_only=True)\n",
    "lrl = ReduceLROnPlateau(patience=10,verbose=1,monitor=\"loss\")\n",
    "\n",
    "print(X_train_standard.shape)\n",
    "model = Sequential([\n",
    "    Dense(units=16, input_shape=(102,), activation=\"relu\"),\n",
    "    Dense(units=16, activation=\"relu\"),\n",
    "    Dropout(0.2),\n",
    "    Dense(units=32, activation=\"relu\"),\n",
    "    Dropout(0.2),\n",
    "    Dense(units=8, activation=\"relu\"),\n",
    "    Dense(units=1, activation=\"sigmoid\")\n",
    "])\n",
    "\n",
    "learning_rate = 0.001\n",
    "loss = \"binary_crossentropy\"\n",
    "metrics = [\"accuracy\"]\n",
    "\n",
    "\n",
    "model.compile(optimizer=Adam(learning_rate=learning_rate),\n",
    "              loss=loss, metrics=metrics)\n",
    "history = model.fit(X_train_standard, y_train, batch_size=100,epochs=200,\n",
    "          shuffle=True, verbose=2, validation_split=0.5,\n",
    "                    callbacks=[es,mc,lrl])"
   ],
   "metadata": {
    "collapsed": false,
    "pycharm": {
     "name": "#%%\n"
    }
   }
  },
  {
   "cell_type": "code",
   "execution_count": 29,
   "outputs": [
    {
     "name": "stdout",
     "output_type": "stream",
     "text": [
      "Currently in directory:C:\\Users\\samyn\\Desktop\\GNT-Arai-31\\Personal projects\\drivendata_flu_shot_learning\n",
      "File coming out of the function: best_training_0.8102_0.7921.h5\n"
     ]
    }
   ],
   "source": [
    "best_model = keep_best_saved_h5(\"/models\",\"h1z1_training_\",.02)\n",
    "loaded_model = load_model(f\"models/{best_model}\")"
   ],
   "metadata": {
    "collapsed": false,
    "pycharm": {
     "name": "#%%\n"
    }
   }
  },
  {
   "cell_type": "code",
   "execution_count": 30,
   "outputs": [
    {
     "name": "stdout",
     "output_type": "stream",
     "text": [
      "[[1707  132]\n",
      " [ 383  399]]\n",
      "82/82 [==============================] - 0s 2ms/step - loss: 0.4670 - accuracy: 0.8035\b\b\b\b\b\b\b\b\b\b\b\b\b\b\b\b\b\b\b\b\b\b\b\b\b\b\b\b\b\b\b\b\b\b\b\b\b\b\b\b\b\b\b\b\b\b\b\b\b\b\b\b\b\b\b\b\b\b\b\b\b\b\b\b\b\b\b\b\b\b\b\b\b\b\b\b\b\b\b\b\b\b\b\b\b\b\b\b\b\b\b\b\b\b\b\b\b\b\b\b\b\b\b\b\b\b\b\b\b\b\b\b\b\b\b\b\b\b\b\b\b\b\b\b\b\b\b\b\b\b\b\b\b\b\b\b\b\b\b\b\b\b\b\b\b\b\b\b\b\b\b\b\b\b\b\b\b\b\b\b\b\b\b\b\b\b\b\b\b\b\b\b\b\b\b\b\b\b\b\b\b\b\b\b\b\b\b\b\b\b\b\b\b\b\b\b\b\b\b\b\b\b\b\b\b\b\b\b\b\b\b\b\b\b\b\b\b\b\b\b\b\b\b\b\b\b\b\b\b\b\b\b\b\b\b\b\b\b\b\b\b\b\b\b\b\b\b\b\b\b\b\b\b\b\b\b\b\b\b\b\b\b\b\b\b\b\b\b\b\b\b\b\b\b\b\b\b\b\b\b\b\b\b\b\b\b\b\b\b\b\b\b\b\b\b\b\b\b\b\b\b\b\b\b\b\b\b\b\b\b\b\b\b\b\b\b\b\b\b\b\b\b\b\b\n",
      "[0.46703094244003296, 0.8035101294517517]\n"
     ]
    }
   ],
   "source": [
    "print(confusion_matrix(y_test,np.round(loaded_model.predict(X_test_standard))))\n",
    "print(loaded_model.evaluate(X_test_standard, y_test))"
   ],
   "metadata": {
    "collapsed": false,
    "pycharm": {
     "name": "#%%\n"
    }
   }
  },
  {
   "cell_type": "code",
   "execution_count": 27,
   "outputs": [],
   "source": [],
   "metadata": {
    "collapsed": false,
    "pycharm": {
     "name": "#%%\n"
    }
   }
  }
 ],
 "metadata": {
  "kernelspec": {
   "name": "tensorflow",
   "language": "python",
   "display_name": "tensorflow"
  },
  "language_info": {
   "codemirror_mode": {
    "name": "ipython",
    "version": 2
   },
   "file_extension": ".py",
   "mimetype": "text/x-python",
   "name": "python",
   "nbconvert_exporter": "python",
   "pygments_lexer": "ipython2",
   "version": "2.7.6"
  }
 },
 "nbformat": 4,
 "nbformat_minor": 0
}