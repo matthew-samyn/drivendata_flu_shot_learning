{
 "cells": [
  {
   "cell_type": "code",
   "execution_count": 62,
   "outputs": [],
   "source": [
    "import pandas as pd\n",
    "from utils.functions import *\n",
    "import seaborn as sns\n",
    "import matplotlib.pyplot as plt\n",
    "import numpy as np\n",
    "from sklearn.model_selection import train_test_split\n",
    "from sklearn.preprocessing import StandardScaler"
   ],
   "metadata": {
    "collapsed": false,
    "pycharm": {
     "name": "#%%\n"
    }
   }
  },
  {
   "cell_type": "code",
   "source": [
    "df = pd.read_csv(\"data/training_h1n1.csv\")\n",
    "df = df.dropna()"
   ],
   "metadata": {
    "collapsed": false,
    "pycharm": {
     "name": "#%%\n"
    }
   },
   "execution_count": 63,
   "outputs": []
  },
  {
   "cell_type": "code",
   "execution_count": 64,
   "outputs": [
    {
     "name": "stdout",
     "output_type": "stream",
     "text": [
      "Index(['respondent_id', 'h1n1_concern', 'h1n1_knowledge',\n",
      "       'behavioral_antiviral_meds', 'behavioral_avoidance',\n",
      "       'behavioral_face_mask', 'behavioral_wash_hands',\n",
      "       'behavioral_large_gatherings', 'behavioral_outside_home',\n",
      "       'behavioral_touch_face',\n",
      "       ...\n",
      "       'qxajmpny', 'rcertsgn', 'tfqavkke', 'ukymxvdu', 'uqqtjvyb', 'vlluhbov',\n",
      "       'xgwztkwe', 'xqwwgdyp', 'xtkaffoo', 'xzmlyyjv'],\n",
      "      dtype='object', length=104)\n",
      "respondent_id                  int64\n",
      "h1n1_concern                 float64\n",
      "h1n1_knowledge               float64\n",
      "behavioral_antiviral_meds    float64\n",
      "behavioral_avoidance         float64\n",
      "                              ...   \n",
      "vlluhbov                       int64\n",
      "xgwztkwe                       int64\n",
      "xqwwgdyp                       int64\n",
      "xtkaffoo                       int64\n",
      "xzmlyyjv                       int64\n",
      "Length: 104, dtype: object\n",
      "       respondent_id  h1n1_concern  h1n1_knowledge  behavioral_antiviral_meds  \\\n",
      "count   13104.000000  13104.000000    13104.000000               13104.000000   \n",
      "mean    13379.237714      1.528388        1.259768                   0.053342   \n",
      "std      7716.517352      0.891994        0.610883                   0.224724   \n",
      "min         0.000000      0.000000        0.000000                   0.000000   \n",
      "25%      6701.750000      1.000000        1.000000                   0.000000   \n",
      "50%     13355.500000      2.000000        1.000000                   0.000000   \n",
      "75%     20081.500000      2.000000        2.000000                   0.000000   \n",
      "max     26706.000000      3.000000        2.000000                   1.000000   \n",
      "\n",
      "       behavioral_avoidance  behavioral_face_mask  behavioral_wash_hands  \\\n",
      "count          13104.000000          13104.000000           13104.000000   \n",
      "mean               0.726038              0.068452               0.817766   \n",
      "std                0.446007              0.252530               0.386052   \n",
      "min                0.000000              0.000000               0.000000   \n",
      "25%                0.000000              0.000000               1.000000   \n",
      "50%                1.000000              0.000000               1.000000   \n",
      "75%                1.000000              0.000000               1.000000   \n",
      "max                1.000000              1.000000               1.000000   \n",
      "\n",
      "       behavioral_large_gatherings  behavioral_outside_home  \\\n",
      "count                 13104.000000             13104.000000   \n",
      "mean                      0.335241                 0.317613   \n",
      "std                       0.472093                 0.465566   \n",
      "min                       0.000000                 0.000000   \n",
      "25%                       0.000000                 0.000000   \n",
      "50%                       0.000000                 0.000000   \n",
      "75%                       1.000000                 1.000000   \n",
      "max                       1.000000                 1.000000   \n",
      "\n",
      "       behavioral_touch_face  ...      qxajmpny      rcertsgn      tfqavkke  \\\n",
      "count           13104.000000  ...  13104.000000  13104.000000  13104.000000   \n",
      "mean                0.679258  ...      0.021596      0.010455      0.016102   \n",
      "std                 0.466780  ...      0.145367      0.101717      0.125873   \n",
      "min                 0.000000  ...      0.000000      0.000000      0.000000   \n",
      "25%                 0.000000  ...      0.000000      0.000000      0.000000   \n",
      "50%                 1.000000  ...      0.000000      0.000000      0.000000   \n",
      "75%                 1.000000  ...      0.000000      0.000000      0.000000   \n",
      "max                 1.000000  ...      1.000000      1.000000      1.000000   \n",
      "\n",
      "           ukymxvdu      uqqtjvyb      vlluhbov      xgwztkwe      xqwwgdyp  \\\n",
      "count  13104.000000  13104.000000  13104.000000  13104.000000  13104.000000   \n",
      "mean       0.014881      0.017933      0.014805      0.044795      0.020528   \n",
      "std        0.121081      0.132715      0.120775      0.206863      0.141803   \n",
      "min        0.000000      0.000000      0.000000      0.000000      0.000000   \n",
      "25%        0.000000      0.000000      0.000000      0.000000      0.000000   \n",
      "50%        0.000000      0.000000      0.000000      0.000000      0.000000   \n",
      "75%        0.000000      0.000000      0.000000      0.000000      0.000000   \n",
      "max        1.000000      1.000000      1.000000      1.000000      1.000000   \n",
      "\n",
      "           xtkaffoo      xzmlyyjv  \n",
      "count  13104.000000  13104.000000  \n",
      "mean       0.068681      0.008776  \n",
      "std        0.252921      0.093272  \n",
      "min        0.000000      0.000000  \n",
      "25%        0.000000      0.000000  \n",
      "50%        0.000000      0.000000  \n",
      "75%        0.000000      0.000000  \n",
      "max        1.000000      1.000000  \n",
      "\n",
      "[8 rows x 104 columns]\n",
      "(13104, 104)\n"
     ]
    }
   ],
   "source": [
    "print(df.columns)\n",
    "print(df.dtypes)\n",
    "print(df.describe())\n",
    "print(df.shape)"
   ],
   "metadata": {
    "collapsed": false,
    "pycharm": {
     "name": "#%%\n"
    }
   }
  },
  {
   "cell_type": "code",
   "execution_count": 65,
   "outputs": [],
   "source": [
    "# types = [\"int64\",\"float64\"]\n",
    "# categorical = []\n",
    "# numerical = []\n",
    "#\n",
    "# for column in df.columns:\n",
    "#     if seperate_columns_by_type(df[column], types):\n",
    "#         numerical.append(column)\n",
    "#     else:\n",
    "#         categorical.append(column)"
   ],
   "metadata": {
    "collapsed": false,
    "pycharm": {
     "name": "#%%\n"
    }
   }
  },
  {
   "cell_type": "code",
   "execution_count": 66,
   "outputs": [],
   "source": [
    "# for column in categorical[:-1]:\n",
    "#     sns.catplot(kind=\"count\", data=df, x=column, hue=categorical[-1])\n",
    "#     plt.title(f\"Countplot on {column}\")\n",
    "#     plt.xticks(rotation=45)\n",
    "#     plt.show()"
   ],
   "metadata": {
    "collapsed": false,
    "pycharm": {
     "name": "#%%\n"
    }
   }
  },
  {
   "cell_type": "markdown",
   "source": [
    "Splitting into train and test"
   ],
   "metadata": {
    "collapsed": false,
    "pycharm": {
     "name": "#%% md\n"
    }
   }
  },
  {
   "cell_type": "code",
   "execution_count": 81,
   "outputs": [],
   "source": [
    "target_column = \"h1n1_vaccine\"\n",
    "y = df[target_column].values\n",
    "X = df.drop([target_column,\"respondent_id\"], axis=1).values\n",
    "\n",
    "X_train, X_test, y_train, y_test = train_test_split(X,y,test_size=0.2,\n",
    "                                                    random_state=1,stratify=y)\n",
    "\n",
    "scaler = StandardScaler()\n",
    "X_train_standard = scaler.fit_transform(X_train)"
   ],
   "metadata": {
    "collapsed": false,
    "pycharm": {
     "name": "#%%\n"
    }
   }
  },
  {
   "cell_type": "markdown",
   "source": [
    "## Trying out different models for predictions\n",
    "### Linear regression"
   ],
   "metadata": {
    "collapsed": false,
    "pycharm": {
     "name": "#%% md\n"
    }
   }
  },
  {
   "cell_type": "code",
   "execution_count": 82,
   "outputs": [
    {
     "name": "stdout",
     "output_type": "stream",
     "text": [
      "-1.262155999393191e+21\n"
     ]
    }
   ],
   "source": [
    "from sklearn.pipeline import make_pipeline\n",
    "from sklearn.preprocessing import PolynomialFeatures\n",
    "from sklearn.linear_model import LinearRegression\n",
    "\n",
    "degree=2\n",
    "model = make_pipeline(PolynomialFeatures(degree), LinearRegression())\n",
    "model.fit(X_train_standard, y_train)\n",
    "model_score = model.score(X_train,y_train)\n",
    "print(model_score)"
   ],
   "metadata": {
    "collapsed": false,
    "pycharm": {
     "name": "#%%\n"
    }
   }
  },
  {
   "cell_type": "markdown",
   "source": [
    "### Random Forest # TROUBLE WITH 1's"
   ],
   "metadata": {
    "collapsed": false,
    "pycharm": {
     "name": "#%% md\n"
    }
   }
  },
  {
   "cell_type": "code",
   "execution_count": 83,
   "outputs": [
    {
     "name": "stdout",
     "output_type": "stream",
     "text": [
      "Model used is Random Forest:\n",
      "cv_score   : 0.8212591575091576\n",
      "train_score: 0.3692645235142612\n",
      "test_score : 0.3693246852346433\n",
      "              precision    recall  f1-score   support\n",
      "\n",
      "           0       0.89      0.11      0.20      1839\n",
      "           1       0.32      0.97      0.48       782\n",
      "\n",
      "    accuracy                           0.37      2621\n",
      "   macro avg       0.61      0.54      0.34      2621\n",
      "weighted avg       0.72      0.37      0.29      2621\n",
      "\n"
     ]
    }
   ],
   "source": [
    "from sklearn.ensemble import RandomForestClassifier\n",
    "from sklearn.metrics import classification_report\n",
    "from sklearn.model_selection import cross_val_score\n",
    "from sklearn.metrics import confusion_matrix\n",
    "\n",
    "model = RandomForestClassifier(random_state=40)\n",
    "model.fit(X_train_standard, y_train)\n",
    "y_pred = model.predict(X_test)\n",
    "cv_score = cross_val_score(model,X_train, y_train,cv=100)\n",
    "print(\"Model used is Random Forest:\")\n",
    "print(f\"cv_score   : {np.mean(cv_score)}\")\n",
    "print(f\"train_score: {model.score(X_train, y_train)}\")\n",
    "print(f\"test_score : {model.score(X_test, y_test)}\")\n",
    "print(classification_report(y_test, y_pred))"
   ],
   "metadata": {
    "collapsed": false,
    "pycharm": {
     "name": "#%%\n"
    }
   }
  },
  {
   "cell_type": "code",
   "execution_count": 104,
   "outputs": [
    {
     "name": "stdout",
     "output_type": "stream",
     "text": [
      "NUM GPUs Available:  1\n",
      "(10483, 102)\n",
      "Epoch 1/200\n",
      "84/84 - 1s - loss: 0.6430 - accuracy: 0.6377 - val_loss: 0.5723 - val_accuracy: 0.7110\n",
      "\n",
      "Epoch 00001: val_accuracy improved from -inf to 0.71102, saving model to models\\best_training_0.5723.h5\n",
      "Epoch 2/200\n",
      "84/84 - 0s - loss: 0.5417 - accuracy: 0.7355 - val_loss: 0.4683 - val_accuracy: 0.7902\n",
      "\n",
      "Epoch 00002: val_accuracy improved from 0.71102 to 0.79018, saving model to models\\best_training_0.4683.h5\n",
      "Epoch 3/200\n",
      "84/84 - 0s - loss: 0.4838 - accuracy: 0.7762 - val_loss: 0.4296 - val_accuracy: 0.8054\n",
      "\n",
      "Epoch 00003: val_accuracy improved from 0.79018 to 0.80544, saving model to models\\best_training_0.4296.h5\n",
      "Epoch 4/200\n",
      "84/84 - 0s - loss: 0.4514 - accuracy: 0.7975 - val_loss: 0.4144 - val_accuracy: 0.8202\n",
      "\n",
      "Epoch 00004: val_accuracy improved from 0.80544 to 0.82022, saving model to models\\best_training_0.4144.h5\n",
      "Epoch 5/200\n",
      "84/84 - 0s - loss: 0.4409 - accuracy: 0.8050 - val_loss: 0.4129 - val_accuracy: 0.8159\n",
      "\n",
      "Epoch 00005: val_accuracy did not improve from 0.82022\n",
      "Epoch 6/200\n",
      "84/84 - 0s - loss: 0.4338 - accuracy: 0.8133 - val_loss: 0.4089 - val_accuracy: 0.8169\n",
      "\n",
      "Epoch 00006: val_accuracy did not improve from 0.82022\n",
      "Epoch 7/200\n",
      "84/84 - 0s - loss: 0.4281 - accuracy: 0.8181 - val_loss: 0.4045 - val_accuracy: 0.8240\n",
      "\n",
      "Epoch 00007: val_accuracy improved from 0.82022 to 0.82403, saving model to models\\best_training_0.4045.h5\n",
      "Epoch 8/200\n",
      "84/84 - 0s - loss: 0.4221 - accuracy: 0.8187 - val_loss: 0.4038 - val_accuracy: 0.8288\n",
      "\n",
      "Epoch 00008: val_accuracy improved from 0.82403 to 0.82880, saving model to models\\best_training_0.4038.h5\n",
      "Epoch 9/200\n",
      "84/84 - 0s - loss: 0.4211 - accuracy: 0.8191 - val_loss: 0.4046 - val_accuracy: 0.8312\n",
      "\n",
      "Epoch 00009: val_accuracy improved from 0.82880 to 0.83119, saving model to models\\best_training_0.4046.h5\n",
      "Epoch 10/200\n",
      "84/84 - 0s - loss: 0.4161 - accuracy: 0.8212 - val_loss: 0.4066 - val_accuracy: 0.8169\n",
      "\n",
      "Epoch 00010: val_accuracy did not improve from 0.83119\n",
      "Epoch 11/200\n",
      "84/84 - 0s - loss: 0.4146 - accuracy: 0.8202 - val_loss: 0.4058 - val_accuracy: 0.8231\n",
      "\n",
      "Epoch 00011: val_accuracy did not improve from 0.83119\n",
      "Epoch 12/200\n",
      "84/84 - 0s - loss: 0.4132 - accuracy: 0.8265 - val_loss: 0.4050 - val_accuracy: 0.8274\n",
      "\n",
      "Epoch 00012: val_accuracy did not improve from 0.83119\n",
      "Epoch 13/200\n",
      "84/84 - 0s - loss: 0.4099 - accuracy: 0.8235 - val_loss: 0.4044 - val_accuracy: 0.8307\n",
      "\n",
      "Epoch 00013: val_accuracy did not improve from 0.83119\n",
      "Epoch 14/200\n",
      "84/84 - 0s - loss: 0.4103 - accuracy: 0.8249 - val_loss: 0.4044 - val_accuracy: 0.8307\n",
      "\n",
      "Epoch 00014: val_accuracy did not improve from 0.83119\n",
      "Epoch 15/200\n",
      "84/84 - 0s - loss: 0.4054 - accuracy: 0.8288 - val_loss: 0.4025 - val_accuracy: 0.8331\n",
      "\n",
      "Epoch 00015: val_accuracy improved from 0.83119 to 0.83309, saving model to models\\best_training_0.4025.h5\n",
      "Epoch 16/200\n",
      "84/84 - 0s - loss: 0.4020 - accuracy: 0.8271 - val_loss: 0.4032 - val_accuracy: 0.8312\n",
      "\n",
      "Epoch 00016: val_accuracy did not improve from 0.83309\n",
      "Epoch 17/200\n",
      "84/84 - 0s - loss: 0.4030 - accuracy: 0.8301 - val_loss: 0.4091 - val_accuracy: 0.8216\n",
      "\n",
      "Epoch 00017: val_accuracy did not improve from 0.83309\n",
      "Epoch 18/200\n",
      "84/84 - 0s - loss: 0.4010 - accuracy: 0.8291 - val_loss: 0.4091 - val_accuracy: 0.8240\n",
      "\n",
      "Epoch 00018: val_accuracy did not improve from 0.83309\n",
      "Epoch 19/200\n",
      "84/84 - 0s - loss: 0.3987 - accuracy: 0.8332 - val_loss: 0.4071 - val_accuracy: 0.8278\n",
      "\n",
      "Epoch 00019: val_accuracy did not improve from 0.83309\n",
      "Epoch 20/200\n",
      "84/84 - 0s - loss: 0.3938 - accuracy: 0.8337 - val_loss: 0.4088 - val_accuracy: 0.8240\n",
      "\n",
      "Epoch 00020: val_accuracy did not improve from 0.83309\n",
      "Epoch 21/200\n",
      "84/84 - 0s - loss: 0.3920 - accuracy: 0.8344 - val_loss: 0.4083 - val_accuracy: 0.8298\n",
      "\n",
      "Epoch 00021: val_accuracy did not improve from 0.83309\n",
      "Epoch 22/200\n",
      "84/84 - 0s - loss: 0.3925 - accuracy: 0.8344 - val_loss: 0.4109 - val_accuracy: 0.8207\n",
      "\n",
      "Epoch 00022: val_accuracy did not improve from 0.83309\n",
      "Epoch 23/200\n",
      "84/84 - 0s - loss: 0.3892 - accuracy: 0.8351 - val_loss: 0.4100 - val_accuracy: 0.8216\n",
      "\n",
      "Epoch 00023: val_accuracy did not improve from 0.83309\n",
      "Epoch 24/200\n",
      "84/84 - 0s - loss: 0.3917 - accuracy: 0.8348 - val_loss: 0.4112 - val_accuracy: 0.8255\n",
      "\n",
      "Epoch 00024: val_accuracy did not improve from 0.83309\n",
      "Epoch 25/200\n",
      "84/84 - 0s - loss: 0.3873 - accuracy: 0.8388 - val_loss: 0.4160 - val_accuracy: 0.8231\n",
      "\n",
      "Epoch 00025: val_accuracy did not improve from 0.83309\n",
      "Epoch 26/200\n",
      "84/84 - 0s - loss: 0.3854 - accuracy: 0.8375 - val_loss: 0.4145 - val_accuracy: 0.8212\n",
      "\n",
      "Epoch 00026: val_accuracy did not improve from 0.83309\n",
      "Epoch 27/200\n",
      "84/84 - 0s - loss: 0.3839 - accuracy: 0.8403 - val_loss: 0.4190 - val_accuracy: 0.8169\n",
      "\n",
      "Epoch 00027: val_accuracy did not improve from 0.83309\n",
      "Epoch 28/200\n",
      "84/84 - 0s - loss: 0.3847 - accuracy: 0.8409 - val_loss: 0.4240 - val_accuracy: 0.8102\n",
      "\n",
      "Epoch 00028: val_accuracy did not improve from 0.83309\n",
      "Epoch 29/200\n",
      "84/84 - 0s - loss: 0.3805 - accuracy: 0.8425 - val_loss: 0.4213 - val_accuracy: 0.8197\n",
      "\n",
      "Epoch 00029: val_accuracy did not improve from 0.83309\n",
      "Epoch 30/200\n",
      "84/84 - 0s - loss: 0.3780 - accuracy: 0.8418 - val_loss: 0.4179 - val_accuracy: 0.8188\n",
      "\n",
      "Epoch 00030: val_accuracy did not improve from 0.83309\n",
      "Epoch 31/200\n",
      "84/84 - 0s - loss: 0.3780 - accuracy: 0.8424 - val_loss: 0.4198 - val_accuracy: 0.8202\n",
      "\n",
      "Epoch 00031: val_accuracy did not improve from 0.83309\n",
      "Epoch 32/200\n",
      "84/84 - 0s - loss: 0.3752 - accuracy: 0.8444 - val_loss: 0.4216 - val_accuracy: 0.8116\n",
      "\n",
      "Epoch 00032: val_accuracy did not improve from 0.83309\n",
      "Epoch 33/200\n",
      "84/84 - 0s - loss: 0.3724 - accuracy: 0.8475 - val_loss: 0.4239 - val_accuracy: 0.8197\n",
      "\n",
      "Epoch 00033: val_accuracy did not improve from 0.83309\n",
      "Epoch 34/200\n",
      "84/84 - 0s - loss: 0.3710 - accuracy: 0.8464 - val_loss: 0.4237 - val_accuracy: 0.8193\n",
      "\n",
      "Epoch 00034: val_accuracy did not improve from 0.83309\n",
      "Epoch 35/200\n",
      "84/84 - 0s - loss: 0.3700 - accuracy: 0.8475 - val_loss: 0.4258 - val_accuracy: 0.8212\n",
      "\n",
      "Epoch 00035: val_accuracy did not improve from 0.83309\n",
      "Epoch 36/200\n",
      "84/84 - 0s - loss: 0.3683 - accuracy: 0.8512 - val_loss: 0.4236 - val_accuracy: 0.8207\n",
      "\n",
      "Epoch 00036: val_accuracy did not improve from 0.83309\n",
      "Epoch 37/200\n",
      "84/84 - 0s - loss: 0.3692 - accuracy: 0.8495 - val_loss: 0.4330 - val_accuracy: 0.8088\n",
      "\n",
      "Epoch 00037: val_accuracy did not improve from 0.83309\n",
      "Epoch 38/200\n",
      "84/84 - 0s - loss: 0.3636 - accuracy: 0.8511 - val_loss: 0.4404 - val_accuracy: 0.8021\n",
      "\n",
      "Epoch 00038: val_accuracy did not improve from 0.83309\n",
      "Epoch 39/200\n",
      "84/84 - 0s - loss: 0.3644 - accuracy: 0.8521 - val_loss: 0.4302 - val_accuracy: 0.8169\n",
      "\n",
      "Epoch 00039: val_accuracy did not improve from 0.83309\n",
      "Epoch 40/200\n",
      "84/84 - 0s - loss: 0.3633 - accuracy: 0.8525 - val_loss: 0.4291 - val_accuracy: 0.8155\n",
      "\n",
      "Epoch 00040: val_accuracy did not improve from 0.83309\n",
      "Epoch 41/200\n",
      "84/84 - 0s - loss: 0.3626 - accuracy: 0.8524 - val_loss: 0.4409 - val_accuracy: 0.8140\n",
      "\n",
      "Epoch 00041: val_accuracy did not improve from 0.83309\n",
      "Epoch 42/200\n",
      "84/84 - 0s - loss: 0.3608 - accuracy: 0.8544 - val_loss: 0.4346 - val_accuracy: 0.8116\n",
      "\n",
      "Epoch 00042: val_accuracy did not improve from 0.83309\n",
      "Epoch 43/200\n",
      "84/84 - 0s - loss: 0.3593 - accuracy: 0.8571 - val_loss: 0.4383 - val_accuracy: 0.8116\n",
      "\n",
      "Epoch 00043: val_accuracy did not improve from 0.83309\n",
      "Epoch 44/200\n",
      "84/84 - 0s - loss: 0.3590 - accuracy: 0.8558 - val_loss: 0.4384 - val_accuracy: 0.8069\n",
      "\n",
      "Epoch 00044: val_accuracy did not improve from 0.83309\n",
      "Epoch 45/200\n",
      "84/84 - 0s - loss: 0.3575 - accuracy: 0.8552 - val_loss: 0.4586 - val_accuracy: 0.7926\n",
      "\n",
      "Epoch 00045: val_accuracy did not improve from 0.83309\n",
      "Epoch 46/200\n",
      "84/84 - 0s - loss: 0.3573 - accuracy: 0.8540 - val_loss: 0.4405 - val_accuracy: 0.8140\n",
      "\n",
      "Epoch 00046: val_accuracy did not improve from 0.83309\n",
      "Epoch 47/200\n",
      "84/84 - 0s - loss: 0.3529 - accuracy: 0.8555 - val_loss: 0.4356 - val_accuracy: 0.8178\n",
      "\n",
      "Epoch 00047: val_accuracy did not improve from 0.83309\n",
      "Epoch 48/200\n",
      "84/84 - 0s - loss: 0.3559 - accuracy: 0.8555 - val_loss: 0.4434 - val_accuracy: 0.8145\n",
      "\n",
      "Epoch 00048: val_accuracy did not improve from 0.83309\n",
      "Epoch 49/200\n",
      "84/84 - 0s - loss: 0.3500 - accuracy: 0.8596 - val_loss: 0.4462 - val_accuracy: 0.8188\n",
      "\n",
      "Epoch 00049: val_accuracy did not improve from 0.83309\n",
      "Epoch 50/200\n",
      "84/84 - 0s - loss: 0.3501 - accuracy: 0.8592 - val_loss: 0.4428 - val_accuracy: 0.8145\n",
      "\n",
      "Epoch 00050: val_accuracy did not improve from 0.83309\n",
      "Epoch 51/200\n",
      "84/84 - 0s - loss: 0.3486 - accuracy: 0.8601 - val_loss: 0.4526 - val_accuracy: 0.8059\n",
      "\n",
      "Epoch 00051: val_accuracy did not improve from 0.83309\n",
      "Epoch 52/200\n",
      "84/84 - 0s - loss: 0.3472 - accuracy: 0.8602 - val_loss: 0.4530 - val_accuracy: 0.8040\n",
      "\n",
      "Epoch 00052: val_accuracy did not improve from 0.83309\n",
      "Epoch 53/200\n",
      "84/84 - 0s - loss: 0.3430 - accuracy: 0.8618 - val_loss: 0.4471 - val_accuracy: 0.8174\n",
      "\n",
      "Epoch 00053: val_accuracy did not improve from 0.83309\n",
      "Epoch 54/200\n",
      "84/84 - 0s - loss: 0.3472 - accuracy: 0.8625 - val_loss: 0.4460 - val_accuracy: 0.8116\n",
      "\n",
      "Epoch 00054: val_accuracy did not improve from 0.83309\n",
      "Epoch 55/200\n",
      "84/84 - 0s - loss: 0.3439 - accuracy: 0.8617 - val_loss: 0.4500 - val_accuracy: 0.8150\n",
      "\n",
      "Epoch 00055: val_accuracy did not improve from 0.83309\n",
      "Epoch 56/200\n",
      "84/84 - 0s - loss: 0.3451 - accuracy: 0.8619 - val_loss: 0.4473 - val_accuracy: 0.8083\n",
      "\n",
      "Epoch 00056: val_accuracy did not improve from 0.83309\n",
      "Epoch 57/200\n",
      "84/84 - 0s - loss: 0.3423 - accuracy: 0.8666 - val_loss: 0.4457 - val_accuracy: 0.8140\n",
      "\n",
      "Epoch 00057: val_accuracy did not improve from 0.83309\n",
      "Epoch 58/200\n",
      "84/84 - 0s - loss: 0.3436 - accuracy: 0.8625 - val_loss: 0.4533 - val_accuracy: 0.8155\n",
      "\n",
      "Epoch 00058: val_accuracy did not improve from 0.83309\n",
      "Epoch 59/200\n",
      "84/84 - 0s - loss: 0.3380 - accuracy: 0.8663 - val_loss: 0.4571 - val_accuracy: 0.8031\n",
      "\n",
      "Epoch 00059: val_accuracy did not improve from 0.83309\n",
      "Epoch 60/200\n",
      "84/84 - 0s - loss: 0.3384 - accuracy: 0.8678 - val_loss: 0.4581 - val_accuracy: 0.8069\n",
      "\n",
      "Epoch 00060: val_accuracy did not improve from 0.83309\n",
      "Epoch 61/200\n",
      "84/84 - 0s - loss: 0.3347 - accuracy: 0.8676 - val_loss: 0.4574 - val_accuracy: 0.8102\n",
      "\n",
      "Epoch 00061: val_accuracy did not improve from 0.83309\n",
      "Epoch 62/200\n",
      "84/84 - 0s - loss: 0.3352 - accuracy: 0.8668 - val_loss: 0.4585 - val_accuracy: 0.8097\n",
      "\n",
      "Epoch 00062: val_accuracy did not improve from 0.83309\n",
      "Epoch 63/200\n",
      "84/84 - 0s - loss: 0.3360 - accuracy: 0.8662 - val_loss: 0.4634 - val_accuracy: 0.8150\n",
      "\n",
      "Epoch 00063: val_accuracy did not improve from 0.83309\n",
      "Epoch 64/200\n",
      "84/84 - 0s - loss: 0.3365 - accuracy: 0.8687 - val_loss: 0.4589 - val_accuracy: 0.8150\n",
      "\n",
      "Epoch 00064: val_accuracy did not improve from 0.83309\n",
      "Epoch 65/200\n",
      "84/84 - 0s - loss: 0.3343 - accuracy: 0.8672 - val_loss: 0.4649 - val_accuracy: 0.8031\n",
      "\n",
      "Epoch 00065: val_accuracy did not improve from 0.83309\n",
      "Epoch 00065: early stopping\n"
     ]
    }
   ],
   "source": [
    "import tensorflow as tf\n",
    "from tensorflow import keras\n",
    "from keras.models import Sequential\n",
    "from keras.layers import Dropout, Dense, Flatten\n",
    "from keras.metrics import BinaryCrossentropy\n",
    "from tensorflow.keras.optimizers import Adam\n",
    "from keras.callbacks import ReduceLROnPlateau, EarlyStopping, ModelCheckpoint\n",
    "from keras.models import load_model\n",
    "\n",
    "physical_devices = tf.config.experimental.list_physical_devices(\"GPU\")\n",
    "print(\"NUM GPUs Available: \", len(physical_devices))\n",
    "tf.config.experimental.set_memory_growth(physical_devices[0], True)\n",
    "\n",
    "es = EarlyStopping(monitor='val_loss', mode='min', verbose=1, patience=50)\n",
    "mc = ModelCheckpoint('models/best_training_{val_loss:.4f}.h5',\n",
    "                     monitor='val_accuracy', mode='max', verbose=1,\n",
    "                     save_best_only=True)\n",
    "lrl = ReduceLROnPlateau(patience=10,verbose=1,monitor=\"loss\")\n",
    "\n",
    "print(X_train_standard.shape)\n",
    "model = Sequential([\n",
    "    Dense(units=16, input_shape=(102,), activation=\"relu\"),\n",
    "    Dense(units=16, activation=\"relu\"),\n",
    "    Dropout(0.2),\n",
    "    Dense(units=32, activation=\"relu\"),\n",
    "    Dropout(0.2),\n",
    "    Dense(units=8, activation=\"relu\"),\n",
    "    Dense(units=1, activation=\"sigmoid\")\n",
    "])\n",
    "\n",
    "learning_rate = 0.001\n",
    "loss = \"binary_crossentropy\"\n",
    "metrics = [\"accuracy\"]\n",
    "\n",
    "\n",
    "model.compile(optimizer=Adam(learning_rate=learning_rate),\n",
    "              loss=loss, metrics=metrics)\n",
    "history = model.fit(X_train,y_train,batch_size=100,epochs=200,\n",
    "          shuffle=True, verbose=2, validation_split=0.2,\n",
    "                    callbacks=[es,mc,lrl])"
   ],
   "metadata": {
    "collapsed": false,
    "pycharm": {
     "name": "#%%\n"
    }
   }
  },
  {
   "cell_type": "code",
   "execution_count": 106,
   "outputs": [
    {
     "name": "stdout",
     "output_type": "stream",
     "text": [
      "[[1677  162]\n",
      " [ 300  482]]\n",
      "82/82 [==============================] - 0s 2ms/step - loss: 0.4033 - accuracy: 0.8237\b\b\b\b\b\b\b\b\b\b\b\b\b\b\b\b\b\b\b\b\b\b\b\b\b\b\b\b\b\b\b\b\b\b\b\b\b\b\b\b\b\b\b\b\b\b\b\b\b\b\b\b\b\b\b\b\b\b\b\b\b\b\b\b\b\b\b\b\b\b\b\b\b\b\b\b\b\b\b\b\b\b\b\b\b\b\b\b\b\b\b\b\b\b\b\b\b\b\b\b\b\b\b\b\b\b\b\b\b\b\b\b\b\b\b\b\b\b\b\b\b\b\b\b\b\b\b\b\b\b\b\b\b\b\b\b\b\b\b\b\b\b\b\b\b\b\b\b\b\b\b\b\b\b\b\b\b\b\b\b\b\b\b\b\b\b\b\b\b\b\b\b\b\b\b\b\b\b\b\b\b\b\b\b\b\b\b\b\b\b\b\b\b\b\b\b\b\b\b\b\b\b\b\b\b\b\b\b\b\b\b\b\b\b\b\b\b\b\b\b\b\b\b\b\b\b\b\b\b\b\b\b\b\b\b\b\b\b\b\b\b\b\b\b\b\b\b\b\b\b\b\b\b\b\b\b\b\b\b\b\b\b\b\b\b\b\b\b\b\b\b\b\b\b\b\b\b\b\b\b\b\b\b\b\b\b\b\b\b\b\b\b\b\b\b\b\b\b\b\b\b\b\b\b\b\b\b\b\b\b\b\b\b\b\b\b\b\b\b\b\b\b\b\b\n",
      "[0.40334412455558777, 0.8237314224243164]\n"
     ]
    }
   ],
   "source": [
    "best_model = load_model(\"models/best_training_0.4025.h5\")\n",
    "print(confusion_matrix(y_test,np.round(best_model.predict(X_test))))\n",
    "print(best_model.evaluate(X_test, y_test))"
   ],
   "metadata": {
    "collapsed": false,
    "pycharm": {
     "name": "#%%\n"
    }
   }
  },
  {
   "cell_type": "code",
   "execution_count": null,
   "outputs": [],
   "source": [],
   "metadata": {
    "collapsed": false,
    "pycharm": {
     "name": "#%%\n"
    }
   }
  }
 ],
 "metadata": {
  "kernelspec": {
   "name": "tensorflow",
   "language": "python",
   "display_name": "tensorflow"
  },
  "language_info": {
   "codemirror_mode": {
    "name": "ipython",
    "version": 2
   },
   "file_extension": ".py",
   "mimetype": "text/x-python",
   "name": "python",
   "nbconvert_exporter": "python",
   "pygments_lexer": "ipython2",
   "version": "2.7.6"
  }
 },
 "nbformat": 4,
 "nbformat_minor": 0
}