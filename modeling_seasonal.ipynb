{
 "cells": [
  {
   "cell_type": "code",
   "execution_count": 31,
   "outputs": [],
   "source": [
    "import pandas as pd\n",
    "from utils.functions import *\n",
    "import seaborn as sns\n",
    "import matplotlib.pyplot as plt\n",
    "import numpy as np\n",
    "from sklearn.model_selection import train_test_split\n",
    "from sklearn.preprocessing import StandardScaler"
   ],
   "metadata": {
    "collapsed": false,
    "pycharm": {
     "name": "#%%\n"
    }
   }
  },
  {
   "cell_type": "code",
   "execution_count": 32,
   "outputs": [],
   "source": [
    "df = pd.read_csv(\"data/training_seasonal.csv\")\n",
    "df = df.dropna()"
   ],
   "metadata": {
    "collapsed": false,
    "pycharm": {
     "name": "#%%\n"
    }
   }
  },
  {
   "cell_type": "code",
   "execution_count": 33,
   "outputs": [
    {
     "name": "stdout",
     "output_type": "stream",
     "text": [
      "Index(['respondent_id', 'h1n1_concern', 'h1n1_knowledge',\n",
      "       'behavioral_antiviral_meds', 'behavioral_avoidance',\n",
      "       'behavioral_face_mask', 'behavioral_wash_hands',\n",
      "       'behavioral_large_gatherings', 'behavioral_outside_home',\n",
      "       'behavioral_touch_face',\n",
      "       ...\n",
      "       'qxajmpny', 'rcertsgn', 'tfqavkke', 'ukymxvdu', 'uqqtjvyb', 'vlluhbov',\n",
      "       'xgwztkwe', 'xqwwgdyp', 'xtkaffoo', 'xzmlyyjv'],\n",
      "      dtype='object', length=104)\n",
      "respondent_id                  int64\n",
      "h1n1_concern                 float64\n",
      "h1n1_knowledge               float64\n",
      "behavioral_antiviral_meds    float64\n",
      "behavioral_avoidance         float64\n",
      "                              ...   \n",
      "vlluhbov                       int64\n",
      "xgwztkwe                       int64\n",
      "xqwwgdyp                       int64\n",
      "xtkaffoo                       int64\n",
      "xzmlyyjv                       int64\n",
      "Length: 104, dtype: object\n",
      "       respondent_id  h1n1_concern  h1n1_knowledge  behavioral_antiviral_meds  \\\n",
      "count   13104.000000  13104.000000    13104.000000               13104.000000   \n",
      "mean    13379.237714      1.528388        1.259768                   0.053342   \n",
      "std      7716.517352      0.891994        0.610883                   0.224724   \n",
      "min         0.000000      0.000000        0.000000                   0.000000   \n",
      "25%      6701.750000      1.000000        1.000000                   0.000000   \n",
      "50%     13355.500000      2.000000        1.000000                   0.000000   \n",
      "75%     20081.500000      2.000000        2.000000                   0.000000   \n",
      "max     26706.000000      3.000000        2.000000                   1.000000   \n",
      "\n",
      "       behavioral_avoidance  behavioral_face_mask  behavioral_wash_hands  \\\n",
      "count          13104.000000          13104.000000           13104.000000   \n",
      "mean               0.726038              0.068452               0.817766   \n",
      "std                0.446007              0.252530               0.386052   \n",
      "min                0.000000              0.000000               0.000000   \n",
      "25%                0.000000              0.000000               1.000000   \n",
      "50%                1.000000              0.000000               1.000000   \n",
      "75%                1.000000              0.000000               1.000000   \n",
      "max                1.000000              1.000000               1.000000   \n",
      "\n",
      "       behavioral_large_gatherings  behavioral_outside_home  \\\n",
      "count                 13104.000000             13104.000000   \n",
      "mean                      0.335241                 0.317613   \n",
      "std                       0.472093                 0.465566   \n",
      "min                       0.000000                 0.000000   \n",
      "25%                       0.000000                 0.000000   \n",
      "50%                       0.000000                 0.000000   \n",
      "75%                       1.000000                 1.000000   \n",
      "max                       1.000000                 1.000000   \n",
      "\n",
      "       behavioral_touch_face  ...      qxajmpny      rcertsgn      tfqavkke  \\\n",
      "count           13104.000000  ...  13104.000000  13104.000000  13104.000000   \n",
      "mean                0.679258  ...      0.021596      0.010455      0.016102   \n",
      "std                 0.466780  ...      0.145367      0.101717      0.125873   \n",
      "min                 0.000000  ...      0.000000      0.000000      0.000000   \n",
      "25%                 0.000000  ...      0.000000      0.000000      0.000000   \n",
      "50%                 1.000000  ...      0.000000      0.000000      0.000000   \n",
      "75%                 1.000000  ...      0.000000      0.000000      0.000000   \n",
      "max                 1.000000  ...      1.000000      1.000000      1.000000   \n",
      "\n",
      "           ukymxvdu      uqqtjvyb      vlluhbov      xgwztkwe      xqwwgdyp  \\\n",
      "count  13104.000000  13104.000000  13104.000000  13104.000000  13104.000000   \n",
      "mean       0.014881      0.017933      0.014805      0.044795      0.020528   \n",
      "std        0.121081      0.132715      0.120775      0.206863      0.141803   \n",
      "min        0.000000      0.000000      0.000000      0.000000      0.000000   \n",
      "25%        0.000000      0.000000      0.000000      0.000000      0.000000   \n",
      "50%        0.000000      0.000000      0.000000      0.000000      0.000000   \n",
      "75%        0.000000      0.000000      0.000000      0.000000      0.000000   \n",
      "max        1.000000      1.000000      1.000000      1.000000      1.000000   \n",
      "\n",
      "           xtkaffoo      xzmlyyjv  \n",
      "count  13104.000000  13104.000000  \n",
      "mean       0.068681      0.008776  \n",
      "std        0.252921      0.093272  \n",
      "min        0.000000      0.000000  \n",
      "25%        0.000000      0.000000  \n",
      "50%        0.000000      0.000000  \n",
      "75%        0.000000      0.000000  \n",
      "max        1.000000      1.000000  \n",
      "\n",
      "[8 rows x 104 columns]\n",
      "(13104, 104)\n"
     ]
    }
   ],
   "source": [
    "print(df.columns)\n",
    "print(df.dtypes)\n",
    "print(df.describe())\n",
    "print(df.shape)"
   ],
   "metadata": {
    "collapsed": false,
    "pycharm": {
     "name": "#%%\n"
    }
   }
  },
  {
   "cell_type": "markdown",
   "source": [
    "###  Splitting into train and test"
   ],
   "metadata": {
    "collapsed": false
   }
  },
  {
   "cell_type": "code",
   "execution_count": 34,
   "outputs": [],
   "source": [
    "target_column = \"seasonal_vaccine\"\n",
    "y = df[target_column].values\n",
    "X = df.drop([target_column,\"respondent_id\"], axis=1).values\n",
    "\n",
    "X_train, X_test, y_train, y_test = train_test_split(X,y,test_size=0.2,\n",
    "                                                    random_state=42,stratify=y)"
   ],
   "metadata": {
    "collapsed": false,
    "pycharm": {
     "name": "#%%\n"
    }
   }
  },
  {
   "cell_type": "markdown",
   "source": [
    "### Standardizing train and test"
   ],
   "metadata": {
    "collapsed": false,
    "pycharm": {
     "name": "#%% md\n"
    }
   }
  },
  {
   "cell_type": "code",
   "execution_count": 35,
   "outputs": [],
   "source": [
    "scaler = StandardScaler()\n",
    "X_train_standard = scaler.fit_transform(X_train)\n",
    "X_test_standard = scaler.transform(X_test)"
   ],
   "metadata": {
    "collapsed": false,
    "pycharm": {
     "name": "#%%\n"
    }
   }
  },
  {
   "cell_type": "markdown",
   "source": [
    "## Trying out different models for predictions\n",
    "### Linear regression"
   ],
   "metadata": {
    "collapsed": false
   }
  },
  {
   "cell_type": "code",
   "execution_count": 36,
   "outputs": [],
   "source": [
    "# from sklearn.pipeline import make_pipeline\n",
    "# from sklearn.preprocessing import PolynomialFeatures\n",
    "# from sklearn.linear_model import LinearRegression\n",
    "#\n",
    "# degree=2\n",
    "# model = make_pipeline(PolynomialFeatures(degree), LinearRegression())\n",
    "# model.fit(X_train_standard, y_train)\n",
    "# model_score = model.score(X_train,y_train)\n",
    "# print(model_score)"
   ],
   "metadata": {
    "collapsed": false,
    "pycharm": {
     "name": "#%%\n"
    }
   }
  },
  {
   "cell_type": "markdown",
   "source": [
    "### Random Forest # 0.79 but OVERFITTING"
   ],
   "metadata": {
    "collapsed": false
   }
  },
  {
   "cell_type": "code",
   "execution_count": 37,
   "outputs": [
    {
     "name": "stdout",
     "output_type": "stream",
     "text": [
      "Model used is Random Forest:\n",
      "cv_score   : 0.7922326007326008\n",
      "train_score: 1.0\n",
      "test_score : 0.7970240366272415\n",
      "              precision    recall  f1-score   support\n",
      "\n",
      "           0       0.79      0.80      0.80      1302\n",
      "           1       0.80      0.79      0.80      1319\n",
      "\n",
      "    accuracy                           0.80      2621\n",
      "   macro avg       0.80      0.80      0.80      2621\n",
      "weighted avg       0.80      0.80      0.80      2621\n",
      "\n"
     ]
    }
   ],
   "source": [
    "from sklearn.ensemble import RandomForestClassifier\n",
    "from sklearn.metrics import classification_report\n",
    "from sklearn.model_selection import cross_val_score\n",
    "from sklearn.metrics import confusion_matrix\n",
    "\n",
    "RF = RandomForestClassifier(random_state=40)\n",
    "RF.fit(X_train_standard, y_train)\n",
    "y_pred = RF.predict(X_test_standard)\n",
    "cv_score = cross_val_score(RF,X_train, y_train,cv=100)\n",
    "print(\"Model used is Random Forest:\")\n",
    "print(f\"cv_score   : {np.mean(cv_score)}\")\n",
    "print(f\"train_score: {RF.score(X_train_standard, y_train)}\")\n",
    "print(f\"test_score : {RF.score(X_test_standard, y_test)}\")\n",
    "print(classification_report(y_test, y_pred))"
   ],
   "metadata": {
    "collapsed": false,
    "pycharm": {
     "name": "#%%\n"
    }
   }
  },
  {
   "cell_type": "markdown",
   "source": [
    "### Neural Network"
   ],
   "metadata": {
    "collapsed": false
   }
  },
  {
   "cell_type": "code",
   "execution_count": 38,
   "outputs": [
    {
     "name": "stdout",
     "output_type": "stream",
     "text": [
      "NUM GPUs Available:  1\n",
      "(10483, 102)\n",
      "Epoch 1/200\n",
      "53/53 - 1s - loss: 0.6783 - accuracy: 0.5776 - val_loss: 0.6395 - val_accuracy: 0.6616\n",
      "\n",
      "Epoch 00001: val_accuracy improved from -inf to 0.66158, saving model to models\\seasonal_training_0.5776_0.6616.h5\n",
      "Epoch 2/200\n",
      "53/53 - 0s - loss: 0.6169 - accuracy: 0.6764 - val_loss: 0.5610 - val_accuracy: 0.7211\n",
      "\n",
      "Epoch 00002: val_accuracy improved from 0.66158 to 0.72110, saving model to models\\seasonal_training_0.6764_0.7211.h5\n",
      "Epoch 3/200\n",
      "53/53 - 0s - loss: 0.5502 - accuracy: 0.7319 - val_loss: 0.5201 - val_accuracy: 0.7451\n",
      "\n",
      "Epoch 00003: val_accuracy improved from 0.72110 to 0.74514, saving model to models\\seasonal_training_0.7319_0.7451.h5\n",
      "Epoch 4/200\n",
      "53/53 - 0s - loss: 0.5099 - accuracy: 0.7666 - val_loss: 0.5032 - val_accuracy: 0.7579\n",
      "\n",
      "Epoch 00004: val_accuracy improved from 0.74514 to 0.75792, saving model to models\\seasonal_training_0.7666_0.7579.h5\n",
      "Epoch 5/200\n",
      "53/53 - 0s - loss: 0.4859 - accuracy: 0.7832 - val_loss: 0.4909 - val_accuracy: 0.7703\n",
      "\n",
      "Epoch 00005: val_accuracy improved from 0.75792 to 0.77032, saving model to models\\seasonal_training_0.7832_0.7703.h5\n",
      "Epoch 6/200\n",
      "53/53 - 0s - loss: 0.4714 - accuracy: 0.7928 - val_loss: 0.4875 - val_accuracy: 0.7734\n",
      "\n",
      "Epoch 00006: val_accuracy improved from 0.77032 to 0.77337, saving model to models\\seasonal_training_0.7928_0.7734.h5\n",
      "Epoch 7/200\n",
      "53/53 - 0s - loss: 0.4623 - accuracy: 0.8006 - val_loss: 0.4840 - val_accuracy: 0.7758\n",
      "\n",
      "Epoch 00007: val_accuracy improved from 0.77337 to 0.77585, saving model to models\\seasonal_training_0.8006_0.7758.h5\n",
      "Epoch 8/200\n",
      "53/53 - 0s - loss: 0.4513 - accuracy: 0.8046 - val_loss: 0.4828 - val_accuracy: 0.7783\n",
      "\n",
      "Epoch 00008: val_accuracy improved from 0.77585 to 0.77833, saving model to models\\seasonal_training_0.8046_0.7783.h5\n",
      "Epoch 9/200\n",
      "53/53 - 0s - loss: 0.4467 - accuracy: 0.8060 - val_loss: 0.4815 - val_accuracy: 0.7772\n",
      "\n",
      "Epoch 00009: val_accuracy did not improve from 0.77833\n",
      "Epoch 10/200\n",
      "53/53 - 0s - loss: 0.4428 - accuracy: 0.8071 - val_loss: 0.4794 - val_accuracy: 0.7778\n",
      "\n",
      "Epoch 00010: val_accuracy did not improve from 0.77833\n",
      "Epoch 11/200\n",
      "53/53 - 0s - loss: 0.4360 - accuracy: 0.8145 - val_loss: 0.4810 - val_accuracy: 0.7781\n",
      "\n",
      "Epoch 00011: val_accuracy did not improve from 0.77833\n",
      "Epoch 12/200\n",
      "53/53 - 0s - loss: 0.4261 - accuracy: 0.8163 - val_loss: 0.4841 - val_accuracy: 0.7776\n",
      "\n",
      "Epoch 00012: val_accuracy did not improve from 0.77833\n",
      "Epoch 13/200\n",
      "53/53 - 0s - loss: 0.4287 - accuracy: 0.8176 - val_loss: 0.4819 - val_accuracy: 0.7791\n",
      "\n",
      "Epoch 00013: val_accuracy improved from 0.77833 to 0.77909, saving model to models\\seasonal_training_0.8176_0.7791.h5\n",
      "Epoch 14/200\n",
      "53/53 - 0s - loss: 0.4184 - accuracy: 0.8231 - val_loss: 0.4831 - val_accuracy: 0.7799\n",
      "\n",
      "Epoch 00014: val_accuracy improved from 0.77909 to 0.77986, saving model to models\\seasonal_training_0.8231_0.7799.h5\n",
      "Epoch 15/200\n",
      "53/53 - 0s - loss: 0.4172 - accuracy: 0.8237 - val_loss: 0.4818 - val_accuracy: 0.7802\n",
      "\n",
      "Epoch 00015: val_accuracy improved from 0.77986 to 0.78024, saving model to models\\seasonal_training_0.8237_0.7802.h5\n",
      "Epoch 16/200\n",
      "53/53 - 0s - loss: 0.4153 - accuracy: 0.8306 - val_loss: 0.4825 - val_accuracy: 0.7800\n",
      "\n",
      "Epoch 00016: val_accuracy did not improve from 0.78024\n",
      "Epoch 17/200\n",
      "53/53 - 0s - loss: 0.4056 - accuracy: 0.8311 - val_loss: 0.4871 - val_accuracy: 0.7764\n",
      "\n",
      "Epoch 00017: val_accuracy did not improve from 0.78024\n",
      "Epoch 18/200\n",
      "53/53 - 0s - loss: 0.4095 - accuracy: 0.8273 - val_loss: 0.4874 - val_accuracy: 0.7774\n",
      "\n",
      "Epoch 00018: val_accuracy did not improve from 0.78024\n",
      "Epoch 19/200\n",
      "53/53 - 0s - loss: 0.4012 - accuracy: 0.8285 - val_loss: 0.4858 - val_accuracy: 0.7800\n",
      "\n",
      "Epoch 00019: val_accuracy did not improve from 0.78024\n",
      "Epoch 20/200\n",
      "53/53 - 0s - loss: 0.3971 - accuracy: 0.8342 - val_loss: 0.4938 - val_accuracy: 0.7778\n",
      "\n",
      "Epoch 00020: val_accuracy did not improve from 0.78024\n",
      "Epoch 21/200\n",
      "53/53 - 0s - loss: 0.3963 - accuracy: 0.8363 - val_loss: 0.4959 - val_accuracy: 0.7736\n",
      "\n",
      "Epoch 00021: val_accuracy did not improve from 0.78024\n",
      "Epoch 22/200\n",
      "53/53 - 0s - loss: 0.3929 - accuracy: 0.8378 - val_loss: 0.4953 - val_accuracy: 0.7762\n",
      "\n",
      "Epoch 00022: val_accuracy did not improve from 0.78024\n",
      "Epoch 23/200\n",
      "53/53 - 0s - loss: 0.3901 - accuracy: 0.8374 - val_loss: 0.4977 - val_accuracy: 0.7743\n",
      "\n",
      "Epoch 00023: val_accuracy did not improve from 0.78024\n",
      "Epoch 24/200\n",
      "53/53 - 0s - loss: 0.3873 - accuracy: 0.8416 - val_loss: 0.5021 - val_accuracy: 0.7739\n",
      "\n",
      "Epoch 00024: val_accuracy did not improve from 0.78024\n",
      "Epoch 25/200\n",
      "53/53 - 0s - loss: 0.3833 - accuracy: 0.8447 - val_loss: 0.5056 - val_accuracy: 0.7762\n",
      "\n",
      "Epoch 00025: val_accuracy did not improve from 0.78024\n",
      "Epoch 26/200\n",
      "53/53 - 0s - loss: 0.3767 - accuracy: 0.8462 - val_loss: 0.5111 - val_accuracy: 0.7724\n",
      "\n",
      "Epoch 00026: val_accuracy did not improve from 0.78024\n",
      "Epoch 27/200\n",
      "53/53 - 0s - loss: 0.3722 - accuracy: 0.8485 - val_loss: 0.5119 - val_accuracy: 0.7745\n",
      "\n",
      "Epoch 00027: val_accuracy did not improve from 0.78024\n",
      "Epoch 28/200\n",
      "53/53 - 0s - loss: 0.3717 - accuracy: 0.8500 - val_loss: 0.5146 - val_accuracy: 0.7707\n",
      "\n",
      "Epoch 00028: val_accuracy did not improve from 0.78024\n",
      "Epoch 29/200\n",
      "53/53 - 0s - loss: 0.3693 - accuracy: 0.8502 - val_loss: 0.5169 - val_accuracy: 0.7722\n",
      "\n",
      "Epoch 00029: val_accuracy did not improve from 0.78024\n",
      "Epoch 30/200\n",
      "53/53 - 0s - loss: 0.3651 - accuracy: 0.8483 - val_loss: 0.5198 - val_accuracy: 0.7730\n",
      "\n",
      "Epoch 00030: val_accuracy did not improve from 0.78024\n",
      "Epoch 31/200\n",
      "53/53 - 0s - loss: 0.3657 - accuracy: 0.8510 - val_loss: 0.5234 - val_accuracy: 0.7724\n",
      "\n",
      "Epoch 00031: val_accuracy did not improve from 0.78024\n",
      "Epoch 32/200\n",
      "53/53 - 0s - loss: 0.3623 - accuracy: 0.8575 - val_loss: 0.5270 - val_accuracy: 0.7724\n",
      "\n",
      "Epoch 00032: val_accuracy did not improve from 0.78024\n",
      "Epoch 33/200\n",
      "53/53 - 0s - loss: 0.3540 - accuracy: 0.8601 - val_loss: 0.5402 - val_accuracy: 0.7726\n",
      "\n",
      "Epoch 00033: val_accuracy did not improve from 0.78024\n",
      "Epoch 34/200\n",
      "53/53 - 0s - loss: 0.3579 - accuracy: 0.8540 - val_loss: 0.5336 - val_accuracy: 0.7671\n",
      "\n",
      "Epoch 00034: val_accuracy did not improve from 0.78024\n",
      "Epoch 35/200\n",
      "53/53 - 0s - loss: 0.3570 - accuracy: 0.8554 - val_loss: 0.5371 - val_accuracy: 0.7676\n",
      "\n",
      "Epoch 00035: val_accuracy did not improve from 0.78024\n",
      "Epoch 36/200\n",
      "53/53 - 0s - loss: 0.3504 - accuracy: 0.8582 - val_loss: 0.5392 - val_accuracy: 0.7682\n",
      "\n",
      "Epoch 00036: val_accuracy did not improve from 0.78024\n",
      "Epoch 37/200\n",
      "53/53 - 0s - loss: 0.3472 - accuracy: 0.8622 - val_loss: 0.5432 - val_accuracy: 0.7682\n",
      "\n",
      "Epoch 00037: val_accuracy did not improve from 0.78024\n",
      "Epoch 38/200\n",
      "53/53 - 0s - loss: 0.3466 - accuracy: 0.8619 - val_loss: 0.5414 - val_accuracy: 0.7686\n",
      "\n",
      "Epoch 00038: val_accuracy did not improve from 0.78024\n",
      "Epoch 39/200\n",
      "53/53 - 0s - loss: 0.3441 - accuracy: 0.8634 - val_loss: 0.5527 - val_accuracy: 0.7654\n",
      "\n",
      "Epoch 00039: val_accuracy did not improve from 0.78024\n",
      "Epoch 40/200\n",
      "53/53 - 0s - loss: 0.3412 - accuracy: 0.8655 - val_loss: 0.5596 - val_accuracy: 0.7661\n",
      "\n",
      "Epoch 00040: val_accuracy did not improve from 0.78024\n",
      "Epoch 41/200\n",
      "53/53 - 0s - loss: 0.3373 - accuracy: 0.8659 - val_loss: 0.5625 - val_accuracy: 0.7638\n",
      "\n",
      "Epoch 00041: val_accuracy did not improve from 0.78024\n",
      "Epoch 42/200\n",
      "53/53 - 0s - loss: 0.3421 - accuracy: 0.8657 - val_loss: 0.5605 - val_accuracy: 0.7654\n",
      "\n",
      "Epoch 00042: val_accuracy did not improve from 0.78024\n",
      "Epoch 43/200\n",
      "53/53 - 0s - loss: 0.3384 - accuracy: 0.8651 - val_loss: 0.5664 - val_accuracy: 0.7663\n",
      "\n",
      "Epoch 00043: val_accuracy did not improve from 0.78024\n",
      "Epoch 44/200\n",
      "53/53 - 0s - loss: 0.3329 - accuracy: 0.8697 - val_loss: 0.5710 - val_accuracy: 0.7688\n",
      "\n",
      "Epoch 00044: val_accuracy did not improve from 0.78024\n",
      "Epoch 45/200\n",
      "53/53 - 0s - loss: 0.3328 - accuracy: 0.8664 - val_loss: 0.5754 - val_accuracy: 0.7659\n",
      "\n",
      "Epoch 00045: val_accuracy did not improve from 0.78024\n",
      "Epoch 46/200\n",
      "53/53 - 0s - loss: 0.3286 - accuracy: 0.8693 - val_loss: 0.5785 - val_accuracy: 0.7652\n",
      "\n",
      "Epoch 00046: val_accuracy did not improve from 0.78024\n",
      "Epoch 47/200\n",
      "53/53 - 0s - loss: 0.3256 - accuracy: 0.8708 - val_loss: 0.5783 - val_accuracy: 0.7655\n",
      "\n",
      "Epoch 00047: val_accuracy did not improve from 0.78024\n",
      "Epoch 48/200\n",
      "53/53 - 0s - loss: 0.3240 - accuracy: 0.8722 - val_loss: 0.5776 - val_accuracy: 0.7686\n",
      "\n",
      "Epoch 00048: val_accuracy did not improve from 0.78024\n",
      "Epoch 49/200\n",
      "53/53 - 0s - loss: 0.3263 - accuracy: 0.8722 - val_loss: 0.5917 - val_accuracy: 0.7659\n",
      "\n",
      "Epoch 00049: val_accuracy did not improve from 0.78024\n",
      "Epoch 50/200\n",
      "53/53 - 0s - loss: 0.3213 - accuracy: 0.8752 - val_loss: 0.5933 - val_accuracy: 0.7636\n",
      "\n",
      "Epoch 00050: val_accuracy did not improve from 0.78024\n",
      "Epoch 51/200\n",
      "53/53 - 0s - loss: 0.3211 - accuracy: 0.8756 - val_loss: 0.5904 - val_accuracy: 0.7636\n",
      "\n",
      "Epoch 00051: val_accuracy did not improve from 0.78024\n",
      "Epoch 52/200\n",
      "53/53 - 0s - loss: 0.3115 - accuracy: 0.8771 - val_loss: 0.5970 - val_accuracy: 0.7678\n",
      "\n",
      "Epoch 00052: val_accuracy did not improve from 0.78024\n",
      "Epoch 53/200\n",
      "53/53 - 0s - loss: 0.3104 - accuracy: 0.8794 - val_loss: 0.6044 - val_accuracy: 0.7617\n",
      "\n",
      "Epoch 00053: val_accuracy did not improve from 0.78024\n",
      "Epoch 54/200\n",
      "53/53 - 0s - loss: 0.3107 - accuracy: 0.8806 - val_loss: 0.6033 - val_accuracy: 0.7606\n",
      "\n",
      "Epoch 00054: val_accuracy did not improve from 0.78024\n",
      "Epoch 55/200\n",
      "53/53 - 0s - loss: 0.3144 - accuracy: 0.8785 - val_loss: 0.6066 - val_accuracy: 0.7619\n",
      "\n",
      "Epoch 00055: val_accuracy did not improve from 0.78024\n",
      "Epoch 56/200\n",
      "53/53 - 0s - loss: 0.3060 - accuracy: 0.8807 - val_loss: 0.6144 - val_accuracy: 0.7625\n",
      "\n",
      "Epoch 00056: val_accuracy did not improve from 0.78024\n",
      "Epoch 57/200\n",
      "53/53 - 0s - loss: 0.3023 - accuracy: 0.8827 - val_loss: 0.6266 - val_accuracy: 0.7633\n",
      "\n",
      "Epoch 00057: val_accuracy did not improve from 0.78024\n",
      "Epoch 58/200\n",
      "53/53 - 0s - loss: 0.3032 - accuracy: 0.8836 - val_loss: 0.6316 - val_accuracy: 0.7636\n",
      "\n",
      "Epoch 00058: val_accuracy did not improve from 0.78024\n",
      "Epoch 59/200\n",
      "53/53 - 0s - loss: 0.3009 - accuracy: 0.8863 - val_loss: 0.6360 - val_accuracy: 0.7634\n",
      "\n",
      "Epoch 00059: val_accuracy did not improve from 0.78024\n",
      "Epoch 60/200\n",
      "53/53 - 0s - loss: 0.3027 - accuracy: 0.8834 - val_loss: 0.6348 - val_accuracy: 0.7636\n",
      "\n",
      "Epoch 00060: val_accuracy did not improve from 0.78024\n",
      "Epoch 00060: early stopping\n"
     ]
    }
   ],
   "source": [
    "import tensorflow as tf\n",
    "from tensorflow import keras\n",
    "from keras.models import Sequential\n",
    "from keras.layers import Dropout, Dense, Flatten\n",
    "from keras.metrics import BinaryCrossentropy\n",
    "from tensorflow.keras.optimizers import Adam\n",
    "from keras.callbacks import ReduceLROnPlateau, EarlyStopping, ModelCheckpoint\n",
    "from keras.models import load_model\n",
    "\n",
    "physical_devices = tf.config.experimental.list_physical_devices(\"GPU\")\n",
    "print(\"NUM GPUs Available: \", len(physical_devices))\n",
    "tf.config.experimental.set_memory_growth(physical_devices[0], True)\n",
    "\n",
    "es = EarlyStopping(monitor='val_loss', mode='min', verbose=1, patience=50)\n",
    "mc = ModelCheckpoint('models/seasonal_training_{accuracy:.4f}_{val_accuracy:.4f}.h5',\n",
    "                     monitor='val_accuracy', mode='max', verbose=1,\n",
    "                     save_best_only=True)\n",
    "lrl = ReduceLROnPlateau(patience=10,verbose=1,monitor=\"loss\")\n",
    "\n",
    "print(X_train_standard.shape)\n",
    "model = Sequential([\n",
    "    Dense(units=16, input_shape=(102,), activation=\"relu\"),\n",
    "    Dense(units=16, activation=\"relu\"),\n",
    "    Dropout(0.2),\n",
    "    Dense(units=32, activation=\"relu\"),\n",
    "    Dropout(0.2),\n",
    "    Dense(units=8, activation=\"relu\"),\n",
    "    Dense(units=1, activation=\"sigmoid\")\n",
    "])\n",
    "\n",
    "learning_rate = 0.001\n",
    "loss = \"binary_crossentropy\"\n",
    "metrics = [\"accuracy\"]\n",
    "\n",
    "\n",
    "model.compile(optimizer=Adam(learning_rate=learning_rate),\n",
    "              loss=loss, metrics=metrics)\n",
    "history = model.fit(X_train_standard, y_train, batch_size=100,epochs=200,\n",
    "          shuffle=True, verbose=2, validation_split=0.5,\n",
    "                    callbacks=[es,mc,lrl])"
   ],
   "metadata": {
    "collapsed": false,
    "pycharm": {
     "name": "#%%\n"
    }
   }
  },
  {
   "cell_type": "code",
   "execution_count": 39,
   "outputs": [
    {
     "name": "stdout",
     "output_type": "stream",
     "text": [
      "Currently in directory:C:\\Users\\samyn\\Desktop\\GNT-Arai-31\\Personal projects\\drivendata_flu_shot_learning\n",
      "File coming out of the function: seasonal_training_0.8046_0.7783.h5\n"
     ]
    }
   ],
   "source": [
    "best_model = keep_best_saved_h5(\"/models\",\"seasonal_training_\",.03)\n",
    "loaded_model = load_model(f\"models/{best_model}\")"
   ],
   "metadata": {
    "collapsed": false,
    "pycharm": {
     "name": "#%%\n"
    }
   }
  },
  {
   "cell_type": "code",
   "execution_count": 40,
   "outputs": [
    {
     "name": "stdout",
     "output_type": "stream",
     "text": [
      "[[1031  271]\n",
      " [ 292 1027]]\n",
      "82/82 [==============================] - 0s 2ms/step - loss: 0.4636 - accuracy: 0.7852\b\b\b\b\b\b\b\b\b\b\b\b\b\b\b\b\b\b\b\b\b\b\b\b\b\b\b\b\b\b\b\b\b\b\b\b\b\b\b\b\b\b\b\b\b\b\b\b\b\b\b\b\b\b\b\b\b\b\b\b\b\b\b\b\b\b\b\b\b\b\b\b\b\b\b\b\b\b\b\b\b\b\b\b\b\b\b\b\b\b\b\b\b\b\b\b\b\b\b\b\b\b\b\b\b\b\b\b\b\b\b\b\b\b\b\b\b\b\b\b\b\b\b\b\b\b\b\b\b\b\b\b\b\b\b\b\b\b\b\b\b\b\b\b\b\b\b\b\b\b\b\b\b\b\b\b\b\b\b\b\b\b\b\b\b\b\b\b\b\b\b\b\b\b\b\b\b\b\b\b\b\b\b\b\b\b\b\b\b\b\b\b\b\b\b\b\b\b\b\b\b\b\b\b\b\b\b\b\b\b\b\b\b\b\b\b\b\b\b\b\b\b\b\b\b\b\b\b\b\b\b\b\b\b\b\b\b\b\b\b\b\b\n",
      "[0.46356451511383057, 0.7851964831352234]\n"
     ]
    }
   ],
   "source": [
    "print(confusion_matrix(y_test,np.round(loaded_model.predict(X_test_standard))))\n",
    "print(loaded_model.evaluate(X_test_standard, y_test))"
   ],
   "metadata": {
    "collapsed": false,
    "pycharm": {
     "name": "#%%\n"
    }
   }
  },
  {
   "cell_type": "markdown",
   "source": [
    "## ???"
   ],
   "metadata": {
    "collapsed": false,
    "pycharm": {
     "name": "#%% md\n"
    }
   }
  },
  {
   "cell_type": "code",
   "execution_count": 45,
   "outputs": [
    {
     "data": {
      "text/plain": "<Figure size 1440x1440 with 1 Axes>",
      "image/png": "[encoded data removed]"
     },
     "metadata": {
      "needs_background": "light"
     },
     "output_type": "display_data"
    }
   ],
   "source": [
    "from sklearn.inspection import permutation_importance\n",
    "plt.figure(figsize=(20,20))\n",
    "results = permutation_importance(RF,X,y,scoring=\"accuracy\")\n",
    "importance = results.importances_mean\n",
    "plt.bar([x for x in range(len(importance))], importance)\n",
    "plt.show()"
   ],
   "metadata": {
    "collapsed": false,
    "pycharm": {
     "name": "#%%\n"
    }
   }
  },
  {
   "cell_type": "code",
   "execution_count": null,
   "outputs": [],
   "source": [],
   "metadata": {
    "collapsed": false,
    "pycharm": {
     "name": "#%%\n"
    }
   }
  }
 ],
 "metadata": {
  "kernelspec": {
   "name": "tensorflow",
   "language": "python",
   "display_name": "tensorflow"
  },
  "language_info": {
   "codemirror_mode": {
    "name": "ipython",
    "version": 2
   },
   "file_extension": ".py",
   "mimetype": "text/x-python",
   "name": "python",
   "nbconvert_exporter": "python",
   "pygments_lexer": "ipython2",
   "version": "2.7.6"
  }
 },
 "nbformat": 4,
 "nbformat_minor": 0
}